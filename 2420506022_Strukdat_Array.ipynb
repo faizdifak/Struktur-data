{
  "cells": [
    {
      "cell_type": "markdown",
      "metadata": {
        "id": "view-in-github",
        "colab_type": "text"
      },
      "source": [
        "<a href=\"https://colab.research.google.com/github/faizdifak/Struktur-data/blob/main/2420506022_Strukdat_Array.ipynb\" target=\"_parent\"><img src=\"https://colab.research.google.com/assets/colab-badge.svg\" alt=\"Open In Colab\"/></a>"
      ]
    },
    {
      "cell_type": "code",
      "execution_count": null,
      "metadata": {
        "colab": {
          "base_uri": "https://localhost:8080/"
        },
        "id": "925X3WESsY6c",
        "outputId": "2bd6cd53-6f4a-4d71-e9a6-30b263029d42"
      },
      "outputs": [
        {
          "name": "stdout",
          "output_type": "stream",
          "text": [
            "isi array angka: [10, 20, 30, 40, 50]\n"
          ]
        }
      ],
      "source": [
        "#Array 1 dimensi\n",
        "#Deklarasi array kosong\n",
        "data = []\n",
        "\n",
        "#inisialisasi array dengan elemen\n",
        "angka = [10,20,30,40,50]\n",
        "\n",
        "#Menampilkan isi array\n",
        "print(\"isi array angka:\", angka)"
      ]
    },
    {
      "cell_type": "code",
      "execution_count": null,
      "metadata": {
        "colab": {
          "base_uri": "https://localhost:8080/"
        },
        "id": "8tKdIjbytBOW",
        "outputId": "bae85694-82c2-4ab9-ffda-96d1e788133e"
      },
      "outputs": [
        {
          "name": "stdout",
          "output_type": "stream",
          "text": [
            "NPM: [2420506022]\n"
          ]
        }
      ],
      "source": [
        "#Latihan 1\n",
        "data =[2420506022]\n",
        "print(\"NPM:\", data)"
      ]
    },
    {
      "cell_type": "code",
      "execution_count": null,
      "metadata": {
        "colab": {
          "base_uri": "https://localhost:8080/"
        },
        "id": "spRQ8ffbte2-",
        "outputId": "0f41ff63-bc33-47d7-c541-0c79fd330322"
      },
      "outputs": [
        {
          "name": "stdout",
          "output_type": "stream",
          "text": [
            "isi arrray NPM: 2420506024\n"
          ]
        }
      ],
      "source": [
        "data =[2420506022,2420506023,2420506024,2420506026]\n",
        "print(\"isi arrray NPM:\" ,data[2])"
      ]
    },
    {
      "cell_type": "code",
      "execution_count": null,
      "metadata": {
        "colab": {
          "base_uri": "https://localhost:8080/"
        },
        "id": "tGScXyorv4zW",
        "outputId": "811ebe98-3096-416a-e522-0d342961d24f"
      },
      "outputs": [
        {
          "name": "stdout",
          "output_type": "stream",
          "text": [
            "Elemen pertama: 2420506022\n",
            "Elemen terakhir: 2420506026\n"
          ]
        }
      ],
      "source": [
        "#mengakses elemen array\n",
        "print(\"Elemen pertama:\", data[0]) #Elemen pertama\n",
        "print(\"Elemen terakhir:\", data[-1]) #Elemen terakhir"
      ]
    },
    {
      "cell_type": "code",
      "execution_count": null,
      "metadata": {
        "colab": {
          "base_uri": "https://localhost:8080/"
        },
        "id": "vlMnRcfDy37f",
        "outputId": "b0da8e4e-7c5f-4d85-bc2e-fe3b23bb4054"
      },
      "outputs": [
        {
          "name": "stdout",
          "output_type": "stream",
          "text": [
            "NPM setelah penambahan elemen: [2420506022, 2420506023, 2420506027, 2420506024, 2420506026, 2420506027, 2420506025, 2420506025, 2420506027, 2420506027, 2420506027]\n"
          ]
        }
      ],
      "source": [
        "#Menambah elemen menggunakan append()\n",
        "data.append(2420506027)\n",
        "print(\"NPM setelah penambahan elemen:\", data)"
      ]
    },
    {
      "cell_type": "code",
      "execution_count": null,
      "metadata": {
        "colab": {
          "base_uri": "https://localhost:8080/"
        },
        "id": "sGsw5t7az8YG",
        "outputId": "70acbfb6-d5ce-491d-8054-361166bc638c"
      },
      "outputs": [
        {
          "name": "stdout",
          "output_type": "stream",
          "text": [
            "NPM sertelah penambahan elemen: [2420506022, 2420506023, 2420506027, 2420506025, 2420506024, 2420506026, 2420506027, 2420506025, 2420506025, 2420506027, 2420506027, 2420506027]\n"
          ]
        }
      ],
      "source": [
        "#Menambah elemen menggunakan insert()\n",
        "data.insert(3,2420506025) #Menyisipkan\n",
        "print(\"NPM sertelah penambahan elemen:\", data)"
      ]
    },
    {
      "cell_type": "code",
      "execution_count": null,
      "metadata": {
        "colab": {
          "base_uri": "https://localhost:8080/"
        },
        "id": "Zbd2k0JE1q63",
        "outputId": "2e82364d-acf3-4d0b-ba20-ef2558c263a4"
      },
      "outputs": [
        {
          "name": "stdout",
          "output_type": "stream",
          "text": [
            "NPM setelah menghapus elemen: [2420506022, 2420506023, 2420506024, 2420506026, 2420506025, 2420506025, 2420506027, 2420506027, 2420506027]\n"
          ]
        }
      ],
      "source": [
        "#menghapus elemen romove()\n",
        "data.remove(2420506027)\n",
        "data.remove(2420506025)\n",
        "print(\"NPM setelah menghapus elemen:\", data)"
      ]
    },
    {
      "cell_type": "code",
      "execution_count": null,
      "metadata": {
        "colab": {
          "base_uri": "https://localhost:8080/"
        },
        "id": "EkSX3OLG5HCn",
        "outputId": "51135bc0-e73b-4836-dee9-af0baae90ee0"
      },
      "outputs": [
        {
          "name": "stdout",
          "output_type": "stream",
          "text": [
            "NPM setelah menghapus elemen pertama: [2420506025, 2420506025, 2420506025, 2420506027, 2420506027, 2420506027]\n"
          ]
        }
      ],
      "source": [
        "#Menghapus elemen menggunakan pop()\n",
        "data.pop(0)\n",
        "print(\"NPM setelah menghapus elemen pertama:\", data)"
      ]
    },
    {
      "cell_type": "code",
      "execution_count": null,
      "metadata": {
        "colab": {
          "base_uri": "https://localhost:8080/"
        },
        "id": "PZ9jfFNa2Ikv",
        "outputId": "7d54618e-ff02-43f5-ff3d-fa2e99c2d1c6"
      },
      "outputs": [
        {
          "name": "stdout",
          "output_type": "stream",
          "text": [
            "NPM setelah mengubah elemen ke 3: [2420506025, 2420506025, 2420506025, 2420506025, 2420506027, 2420506027]\n"
          ]
        }
      ],
      "source": [
        "#Mengubah elemen array\n",
        "data[3] = 2420506025\n",
        "print(\"NPM setelah mengubah elemen ke 3:\", data)"
      ]
    },
    {
      "cell_type": "code",
      "execution_count": null,
      "metadata": {
        "colab": {
          "base_uri": "https://localhost:8080/"
        },
        "id": "CyojLS1R2lPP",
        "outputId": "f1b64c2f-204f-4bfa-b8a8-ff330bbcae74"
      },
      "outputs": [
        {
          "name": "stdout",
          "output_type": "stream",
          "text": [
            "NPM setelah ditambahkan: [2420506021, 2420506022, 2420506023, 2420506024, 2420506025]\n",
            "NPM setelah menghapus elemen pertama: [2420506022, 2420506023, 2420506024, 2420506025]\n"
          ]
        }
      ],
      "source": [
        "#Latihan 2\n",
        "NPM =[2420506021,2420506022,2420506023,2420506024]\n",
        "NPM.insert(4,2420506025)\n",
        "print(\"NPM setelah ditambahkan:\",NPM)\n",
        "NPM.pop(0)\n",
        "print(\"NPM setelah menghapus elemen pertama:\", NPM)"
      ]
    },
    {
      "cell_type": "code",
      "execution_count": null,
      "metadata": {
        "colab": {
          "base_uri": "https://localhost:8080/"
        },
        "id": "RXqwPDnu4m6v",
        "outputId": "509448ee-baeb-4737-92e8-2f9f1623030b"
      },
      "outputs": [
        {
          "name": "stdout",
          "output_type": "stream",
          "text": [
            "NIlai: 1\n",
            "NIlai: 2\n",
            "NIlai: 3\n",
            "NIlai: 4\n",
            "NIlai: 5\n"
          ]
        }
      ],
      "source": [
        "#Iterasi dg perulangan\n",
        "angka = [1,2,3,4,5]\n",
        "for nilai in angka:\n",
        "  print(\"NIlai:\", nilai)"
      ]
    },
    {
      "cell_type": "code",
      "execution_count": null,
      "metadata": {
        "colab": {
          "base_uri": "https://localhost:8080/"
        },
        "id": "ki8hD_ab6K2g",
        "outputId": "5235489b-e306-487a-e163-f3eb34aa26ea"
      },
      "outputs": [
        {
          "name": "stdout",
          "output_type": "stream",
          "text": [
            "Fakultas: FT\n",
            "Fakultas: FAPERTA\n",
            "Fakultas: FKIP\n",
            "Fakultas: FISIPOL\n",
            "Fakultas: FE\n"
          ]
        }
      ],
      "source": [
        "#Latihan 3\n",
        "Nama = ['FT','FAPERTA','FKIP','FISIPOL','FE']\n",
        "for yu in Nama:\n",
        "  print(\"Fakultas:\", yu)"
      ]
    },
    {
      "cell_type": "code",
      "execution_count": null,
      "metadata": {
        "colab": {
          "base_uri": "https://localhost:8080/"
        },
        "id": "DjMx3bjw7E9n",
        "outputId": "dffa6886-01cf-43d1-9b31-ce78f4ec7946"
      },
      "outputs": [
        {
          "name": "stdout",
          "output_type": "stream",
          "text": [
            "Jumlah total: 26\n",
            "Nilai maks: 8\n",
            "Nilai min: 5\n"
          ]
        }
      ],
      "source": [
        "#Operasi math sederhana\n",
        "angka = [5,6,7,8,]\n",
        "print(\"Jumlah total:\", sum(angka))\n",
        "print(\"Nilai maks:\", max(angka))\n",
        "print(\"Nilai min:\", min(angka))"
      ]
    },
    {
      "cell_type": "code",
      "execution_count": null,
      "metadata": {
        "colab": {
          "base_uri": "https://localhost:8080/"
        },
        "id": "EoEXpV9P-AkA",
        "outputId": "20d420bc-3043-4e2d-88cb-d75cbdeb69a9"
      },
      "outputs": [
        {
          "name": "stdout",
          "output_type": "stream",
          "text": [
            "harga semua barang produk: 10000\n",
            "harga max barang produk: 5000\n",
            "harga min barang produk: 2000\n"
          ]
        }
      ],
      "source": [
        "#Latihan 4\n",
        "Harga = [2000,5000,3000]\n",
        "print(\"harga semua barang produk:\", sum(Harga))\n",
        "print(\"harga max barang produk:\", max(Harga))\n",
        "print(\"harga min barang produk:\", min(Harga))"
      ]
    },
    {
      "cell_type": "code",
      "execution_count": null,
      "metadata": {
        "colab": {
          "base_uri": "https://localhost:8080/"
        },
        "id": "tkZpKPGf7oOg",
        "outputId": "49171847-1108-4a75-cb62-55031483a498"
      },
      "outputs": [
        {
          "name": "stdout",
          "output_type": "stream",
          "text": [
            "Jumlah total barang: 52\n",
            "Jumlah total barang max: 22\n",
            "jumlah total barang min: 10\n"
          ]
        }
      ],
      "source": [
        "\n",
        "Mie = [20]\n",
        "Kecap = [10]\n",
        "Saus = [22]\n",
        "total_barang = sum(Mie+Kecap+Saus)\n",
        "print(\"Jumlah total barang:\", total_barang)\n",
        "max_barang = max(Mie,Kecap,Saus)\n",
        "print(\"Jumlah total barang max:\", max(max_barang))\n",
        "min_barang = min(Mie,Kecap,Saus)\n",
        "print(\"jumlah total barang min:\", min(min_barang))"
      ]
    },
    {
      "cell_type": "code",
      "execution_count": null,
      "metadata": {
        "colab": {
          "base_uri": "https://localhost:8080/"
        },
        "id": "BKyX5QQmCZGg",
        "outputId": "0356afc7-c3ff-4ba8-b0f9-e00802d93c08"
      },
      "outputs": [
        {
          "name": "stdout",
          "output_type": "stream",
          "text": [
            "isi array:\n",
            "[1, 2, 3]\n",
            "[4, 5, 6]\n",
            "[7, 8, 9]\n"
          ]
        }
      ],
      "source": [
        "#Deklarasi array\n",
        "no = [\n",
        "    [1, 2, 3],\n",
        "    [4, 5, 6],\n",
        "    [7, 8, 9],\n",
        "]\n",
        "#Menampilkan isi array\n",
        "print(\"isi array:\")\n",
        "for baris in no:\n",
        "  print(baris)"
      ]
    },
    {
      "cell_type": "code",
      "execution_count": null,
      "metadata": {
        "colab": {
          "base_uri": "https://localhost:8080/"
        },
        "id": "10LpIBTcC-wo",
        "outputId": "0a021abb-7ddd-4bb7-d157-1099b64446ca"
      },
      "outputs": [
        {
          "name": "stdout",
          "output_type": "stream",
          "text": [
            "Isi array:\n",
            "[10, 11, 12, 13]\n",
            "[14, 15, 16, 17]\n",
            "[18, 19, 20, 21]\n"
          ]
        }
      ],
      "source": [
        "#latihan 5\n",
        "matriks = [\n",
        "    [10, 11, 12, 13],\n",
        "    [14, 15, 16, 17],\n",
        "    [18, 19, 20, 21],\n",
        "\n",
        "]\n",
        "print(\"Isi array:\")\n",
        "for me in matriks:\n",
        "  print(me)"
      ]
    },
    {
      "cell_type": "code",
      "execution_count": null,
      "metadata": {
        "colab": {
          "base_uri": "https://localhost:8080/"
        },
        "id": "4poRklTHDtEZ",
        "outputId": "58c20c63-c33a-42e5-fd88-b88f53dbc4a6"
      },
      "outputs": [
        {
          "name": "stdout",
          "output_type": "stream",
          "text": [
            "Elemen pada baris 1, kolom 2: 11\n",
            "Elemen terakhir: 21\n"
          ]
        }
      ],
      "source": [
        "#Mengakses elemen array baris 1 kolom 2\n",
        "print(\"Elemen pada baris 1, kolom 2:\", matriks[0][1])\n",
        "#Mengakses elemen terakhir baris 3 kolom 3\n",
        "print(\"Elemen terakhir:\", matriks [-1][-1])"
      ]
    },
    {
      "cell_type": "code",
      "execution_count": null,
      "metadata": {
        "colab": {
          "base_uri": "https://localhost:8080/"
        },
        "id": "cfoI9r_CEUfZ",
        "outputId": "6b60e30a-8290-46d5-c8fa-5f6513fe5247"
      },
      "outputs": [
        {
          "name": "stdout",
          "output_type": "stream",
          "text": [
            "Elemen baris 2, kolom 4: 17\n"
          ]
        }
      ],
      "source": [
        "#Latihan 6\n",
        "print(\"Elemen baris 2, kolom 4:\", matriks[1][3])"
      ]
    },
    {
      "cell_type": "code",
      "execution_count": null,
      "metadata": {
        "colab": {
          "base_uri": "https://localhost:8080/"
        },
        "id": "5E2fWps_HN34",
        "outputId": "6b458c95-c00b-48e5-ef39-70192754ec41"
      },
      "outputs": [
        {
          "name": "stdout",
          "output_type": "stream",
          "text": [
            "Array setelah menambahkan baris baru: [[10, 11, 12, 13], [14, 15, 16, 17], [18, 19, 20, 21], [21, 23, 24]]\n"
          ]
        }
      ],
      "source": [
        "#Menambahkan baris baru\n",
        "matriks.append([21, 23, 24])\n",
        "print(\"Array setelah menambahkan baris baru:\", matriks)"
      ]
    },
    {
      "cell_type": "code",
      "execution_count": null,
      "metadata": {
        "colab": {
          "base_uri": "https://localhost:8080/"
        },
        "id": "OeB6JQDYpHc5",
        "outputId": "639070e1-6dc1-4b38-c9d1-4179d8ea713e"
      },
      "outputs": [
        {
          "name": "stdout",
          "output_type": "stream",
          "text": [
            "Array setelah menambahkan elemen di baris ke 2: [[10, 11, 12, 13], [14, 15, 16, 17, 99], [18, 19, 20, 21], [21, 23, 24]]\n"
          ]
        }
      ],
      "source": [
        "#Menambahkan elemen pada baris ke 2\n",
        "matriks[1].append(99)\n",
        "print(\"Array setelah menambahkan elemen di baris ke 2:\", matriks)"
      ]
    },
    {
      "cell_type": "code",
      "execution_count": null,
      "metadata": {
        "colab": {
          "base_uri": "https://localhost:8080/"
        },
        "id": "RmvVgyX9pig6",
        "outputId": "7178f79e-a453-4e0a-f449-c9d08752c537"
      },
      "outputs": [
        {
          "name": "stdout",
          "output_type": "stream",
          "text": [
            "Isi array:\n",
            "[1, 2, 3, 2020]\n",
            "[4, 5, 6]\n",
            "[7, 9, 8]\n",
            "[22, 11, 15, 2005]\n"
          ]
        }
      ],
      "source": [
        "#Latihan 7\n",
        "tgl_bln = [\n",
        "    [1, 2, 3],\n",
        "    [4, 5, 6],\n",
        "    [7, 9, 8]\n",
        "\n",
        "]\n",
        "print(\"Isi array:\")\n",
        "\n",
        "tgl_bln.append([22,11,15])\n",
        "tgl_bln[0].append(2020)\n",
        "tgl_bln[-1].append(2005)\n",
        "for me in tgl_bln:\n",
        "  print(me)"
      ]
    },
    {
      "cell_type": "code",
      "execution_count": null,
      "metadata": {
        "colab": {
          "base_uri": "https://localhost:8080/"
        },
        "id": "t52WQGQ5wDpA",
        "outputId": "0768ea89-6e77-410a-cb88-c8a542948f6c"
      },
      "outputs": [
        {
          "name": "stdout",
          "output_type": "stream",
          "text": [
            "Array setelah menghapus elemen 2 dari basis pertama: [[1, 3], [4, 5, 6], [7, 8, 9]]\n",
            "Array setelah menghapus elemen indeks ke 1 dari baris ke 2: [[1, 3], [4, 6], [7, 8, 9]]\n"
          ]
        }
      ],
      "source": [
        "#Menghapus elemen array\n",
        "no[0].remove(2)\n",
        "print(\"Array setelah menghapus elemen 2 dari basis pertama:\", no)\n",
        "\n",
        "#menghapus elemen pada indeks tertentu dari baris ke 2\n",
        "no[1].pop(1)\n",
        "print(\"Array setelah menghapus elemen indeks ke 1 dari baris ke 2:\", no)"
      ]
    },
    {
      "cell_type": "code",
      "execution_count": null,
      "metadata": {
        "colab": {
          "base_uri": "https://localhost:8080/"
        },
        "id": "6JMKboWO2-e6",
        "outputId": "c39609bc-64d2-44f1-c3d7-413de0d1d85c"
      },
      "outputs": [
        {
          "name": "stdout",
          "output_type": "stream",
          "text": [
            "Isi array:\n",
            "[10, 11, 12, 13]\n",
            "[14, 15, 16, 17]\n",
            "[18, 19, 21]\n"
          ]
        }
      ],
      "source": [
        "#Latihan 8\n",
        "#Menghapus elemen ke 3 pada baris terakhir\n",
        "matriks = [\n",
        "    [10, 11, 12, 13],\n",
        "    [14, 15, 16, 17],\n",
        "    [18, 19, 20, 21],\n",
        "\n",
        "]\n",
        "print(\"Isi array:\")\n",
        "matriks[2].pop(2)\n",
        "for me in matriks:\n",
        "  print(me)"
      ]
    },
    {
      "cell_type": "code",
      "execution_count": null,
      "metadata": {
        "colab": {
          "base_uri": "https://localhost:8080/"
        },
        "id": "ymhe3eCR36th",
        "outputId": "40c415c6-5076-475a-9d8a-fe37127da442"
      },
      "outputs": [
        {
          "name": "stdout",
          "output_type": "stream",
          "text": [
            "Array setelah mengubah elemen baris ke 3,kolom ke 2: [[10, 11, 12, 13], [14, 15, 16, 17], [18, 88, 21]]\n"
          ]
        }
      ],
      "source": [
        "#Mengubah elemen pada baris ke 3, kolom 2\n",
        "matriks[2][1]= 88\n",
        "print(\"Array setelah mengubah elemen baris ke 3,kolom ke 2:\", matriks)"
      ]
    },
    {
      "cell_type": "code",
      "execution_count": null,
      "metadata": {
        "colab": {
          "base_uri": "https://localhost:8080/"
        },
        "id": "I_KK8-QS4gB_",
        "outputId": "9316d620-29c1-40ed-ab2b-7c6a0ddfe51e"
      },
      "outputs": [
        {
          "name": "stdout",
          "output_type": "stream",
          "text": [
            "Array setelah baris terakhir kolom terakhir diganti 16: [[10, 11, 12, 13], [14, 15, 16, 17], [18, 88, 16]]\n"
          ]
        }
      ],
      "source": [
        "#Latihan 9\n",
        "matriks[2][2] = 16\n",
        "print(\"Array setelah baris terakhir kolom terakhir diganti 16:\", matriks)"
      ]
    },
    {
      "cell_type": "code",
      "execution_count": null,
      "metadata": {
        "colab": {
          "base_uri": "https://localhost:8080/"
        },
        "id": "Y7TA2r5e7OIt",
        "outputId": "f428b86b-4cc6-4c6e-afbd-331cdda02b47"
      },
      "outputs": [
        {
          "name": "stdout",
          "output_type": "stream",
          "text": [
            "Daftar belanja: ['beras', 'minyak', 'teh']\n"
          ]
        }
      ],
      "source": [
        "#Menyimpan daftar belanja\n",
        "belanja = [\"beras\", \"gula\", \"minyak\"]\n",
        "belanja.append(\"teh\")\n",
        "belanja.remove(\"gula\")\n",
        "print(\"Daftar belanja:\", belanja)"
      ]
    },
    {
      "cell_type": "code",
      "execution_count": null,
      "metadata": {
        "colab": {
          "base_uri": "https://localhost:8080/"
        },
        "id": "Y0ZqE4Me7v3d",
        "outputId": "bdc27b44-ea87-42ab-973f-a94de5837317"
      },
      "outputs": [
        {
          "name": "stdout",
          "output_type": "stream",
          "text": [
            "Daftar Makanan: ['Mie ayam', 'Bakso', 'Ayam', 'Bubur']\n"
          ]
        }
      ],
      "source": [
        "#Latihan 10\n",
        "Makanan = [\"Nasi goreng\", \"Mie ayam\",\"Bakso\",\"Ayam\"]\n",
        "Makanan.append(\"Bubur\")\n",
        "Makanan.remove(\"Nasi goreng\")\n",
        "print(\"Daftar Makanan:\", Makanan)"
      ]
    },
    {
      "cell_type": "code",
      "execution_count": null,
      "metadata": {
        "colab": {
          "background_save": true,
          "base_uri": "https://localhost:8080/"
        },
        "id": "4pg6pquY9RQy",
        "outputId": "bc0cf51a-04ab-4d44-a69e-a128b28e2893"
      },
      "outputs": [
        {
          "name": "stdout",
          "output_type": "stream",
          "text": [
            "Selamat datang di Treasure Hunt! Peta memiliki 10 lokasi (0 hingga9).\n",
            "\n",
            "Peta saat ini: ['_', '_', '_', '_', '_', '_', '_', '_', '_', '_']\n",
            "Terimakasih sudah bermain!\n",
            "\n",
            "Harta karun telah disembunyikan ! Sekarang giliran pemain menebak.\n",
            "Cobalah untuk menemukan harta karun dengan menebak indeks yang benar.\n",
            "\n",
            "Peta saat ini: ['_', '_', '_', '_', '_', '_', '_', '_', '_', '_']\n",
            "Terimakasih sudah bermain!\n",
            "\n",
            "Harta karun telah disembunyikan ! Sekarang giliran pemain menebak.\n",
            "Cobalah untuk menemukan harta karun dengan menebak indeks yang benar.\n",
            "\n",
            "Peta saat ini: ['_', '_', '_', '_', '_', '_', '_', '_', '_', '_']\n"
          ]
        }
      ],
      "source": [
        "#Treasure Hunt\n",
        "#Ukuran peta\n",
        "size = 10 #Ukuran peta ditentukan oleh variabel size = 10\n",
        "\n",
        "#Membuat peta dengan harta karun tersembunyi\n",
        "treasure_map = [\"_\" for _ in range(size)]#Peta dibuat menggunakan dengan elemen \"_\" sebanyak size. Ini menandakan bahwa semua lokasi pada peta awalnya kosong.\n",
        "\n",
        "#Tentukan lokasi harta karun secara manual\n",
        "print(f\"Selamat datang di Treasure Hunt! Peta memiliki {size} lokasi (0 hingga{size-1}).\")\n",
        "treasure_index = int(input(f\"Masukkan lokasi harta karun (0-{size-1}):\"))#Program meminta pengguna untuk memasukkan lokasi harta karun dengan input berupa indeks (0 hingga size-1).\n",
        "while treasure_index < 0 or treasure_index >= size: #Input divalidasi untuk memastikan bahwa lokasi yang dimasukkan berada dalam rentang yang benar. Jika tidak, pengguna akan diminta untuk memasukkan kembali lokasi.\n",
        "  print(\"Lokasi tidak valid. Masukkan angka dalam rentang yang benar.\")\n",
        "  treasure_index = int(input(f\"Masukkan lokasi harta karun (0-{size-1}):\"))\n",
        "\n",
        "treasure_map[treasure_index] = \"X\" #Menyembunyikan harta karun dilokasi yang dipilih\n",
        "\n",
        "#Fungsi untuk memulai permainan\n",
        "def play_treasure_hunt(): #Fungsi ini mencetak pesan yang memberitahu pengguna bahwa harta karun telah disembunyikan dan meminta pengguna untuk menebak lokasi harta karun.\n",
        "  print(\"\\nHarta karun telah disembunyikan ! Sekarang giliran pemain menebak.\")\n",
        "  print(\"Cobalah untuk menemukan harta karun dengan menebak indeks yang benar.\")\n",
        "\n",
        "#Loop permainan\n",
        "while True: #Program memasuki loop tak terbatas (while True) yang akan terus berjalan hingga pengguna menebak lokasi harta karun dengan benar.\n",
        "  #Menampilkan peta tersembunyi kepada pemain\n",
        "  print(\"\\nPeta saat ini:\", [\"_\" for _ in range(size)])#Peta tersembunyi\n",
        "\n",
        "  #Input pemain:\n",
        "  try:\n",
        "      guess = int(input(f\"Masukkan indeks tebakanmu (0-{size-1}):\")) #Input pengguna divalidasi untuk memastikan bahwa input adalah angka dan berada dalam rentang yang benar.\n",
        "  except ValueError:\n",
        "    print(\"Masukkan angka yang valid!\")\n",
        "    continue\n",
        "\n",
        "    #Validasi input\n",
        "    if guess < 0 or guess >= size: #validasi input itu jika kurang dari 0 atau lebih dari size maka indeks tidak valid dan mengulangi lagi\n",
        "      print(\"Indeks tidak valid, pilih antara 0 hingga\", size-1)\n",
        "      continue\n",
        "\n",
        "    #Mengecek apakah tebakan benar\n",
        "    if treasure_map[guess] == \"X\": #Jika tebakan pengguna benar (indeks tebakan sama dengan indeks harta karun), program mencetak pesan selamat dan keluar dari loop\n",
        "      print(\":) Selamat! Kamu menemukan harta karun dilokasi;\", guess)\n",
        "      break\n",
        "    else:\n",
        "      print(\":( Tidak ada harta di lokasi ini.Coba lagi!)\")#Jika tebakan salah, program mencetak pesan bahwa tidak ada harta karun di lokasi tersebut dan meminta pengguna untuk mencoba lagi.\n",
        "\n",
        "  print(\"Terimakasih sudah bermain!\")#Pesan akhir bahwa game sudah selesai\n",
        "\n",
        "  #Jalankan permainan\n",
        "  play_treasure_hunt()"
      ]
    },
    {
      "cell_type": "code",
      "execution_count": null,
      "metadata": {
        "colab": {
          "base_uri": "https://localhost:8080/"
        },
        "id": "uS7y-qJbFEI9",
        "outputId": "9dc0fb73-0ce0-495b-e6f8-ee2c1dd28ab2"
      },
      "outputs": [
        {
          "name": "stdout",
          "output_type": "stream",
          "text": [
            "Masukkan ukuran peta (minimal 1): 7\n",
            "\n",
            "Selamat datang di Treasure Hunt! Peta memiliki 7 lokasi (0 hingga 6).\n",
            "Harta karun telah disembunyikan! Sekarang giliran pemain menebak.\n",
            "Cobalah untuk menemukan harta karun dengan menebak indeks yang benar.\n",
            "\n",
            "Peta saat ini: ['_', '_', '_', '_', '_', '_', '_']\n",
            "Masukkan indeks tebakanmu (0-6): 5\n",
            ":( Tidak ada harta di lokasi ini. Coba lagi!\n",
            "\n",
            "Peta saat ini: ['_', '_', '_', '_', '_', '_', '_']\n",
            "Masukkan indeks tebakanmu (0-6): 1\n",
            ":( Tidak ada harta di lokasi ini. Coba lagi!\n",
            "\n",
            "Peta saat ini: ['_', '_', '_', '_', '_', '_', '_']\n",
            "Masukkan indeks tebakanmu (0-6): 3\n",
            ":) Selamat! Kamu menemukan harta karun di lokasi: 3\n",
            "Terima kasih sudah bermain!\n"
          ]
        }
      ],
      "source": [
        "#Tugas\n",
        "# Import library random untuk mengacak lokasi harta karun\n",
        "import random\n",
        "\n",
        "# Fungsi untuk memulai permainan\n",
        "def play_treasure_hunt():\n",
        "    # Meminta input ukuran peta dari pengguna\n",
        "    size = int(input(\"Masukkan ukuran peta (minimal 1): \"))#Meminta pengguna untuk memasukkan ukuran peta. Jika ukuran yang dimasukkan kurang dari 1, program akan terus meminta input hingga pengguna memasukkan angka yang valid (minimal 1).\n",
        "    while size < 1:\n",
        "        print(\"Ukuran peta tidak valid. Masukkan angka minimal 1.\")#Jika ukuran peta kurang dari 1 maka tidak valid\n",
        "        size = int(input(\"Masukkan ukuran peta (minimal 1): \"))\n",
        "\n",
        "    # Membuat peta dengan harta karun tersembunyi\n",
        "    treasure_map = [\"_\" for _ in range(size)]  #Peta dibuat menggunakan dengan elemen \"_\" sebanyak size. Ini menandakan bahwa semua lokasi pada peta awalnya kosong\n",
        "\n",
        "    # Mengacak lokasi harta karun secara otomatis\n",
        "    treasure_index = random.randint(0, size - 1)  # Menggunakan random.randint untuk mengacak indeks\n",
        "    treasure_map[treasure_index] = \"X\"  # Menyembunyikan harta karun di lokasi yang diacak\n",
        "\n",
        "    print(f\"\\nSelamat datang di Treasure Hunt! Peta memiliki {size} lokasi (0 hingga {size - 1}).\")\n",
        "    print(\"Harta karun telah disembunyikan! Sekarang giliran pemain menebak.\")\n",
        "    print(\"Cobalah untuk menemukan harta karun dengan menebak indeks yang benar.\")\n",
        "\n",
        "    # Loop permainan\n",
        "    while True: #Program memasuki loop tak terbatas (while True) yang akan terus berjalan hingga pengguna menebak lokasi harta karun dengan benar.\n",
        "        # Menampilkan peta tersembunyi kepada pemain\n",
        "        print(\"\\nPeta saat ini:\", [\"_\" for _ in range(size)])  # Peta tersembunyi\n",
        "\n",
        "        # Input pemain\n",
        "        try:\n",
        "            guess = int(input(f\"Masukkan indeks tebakanmu (0-{size - 1}): \"))#Input pengguna divalidasi untuk memastikan bahwa input adalah angka dan berada dalam rentang yang benar.\n",
        "        except ValueError:\n",
        "            print(\"Masukkan angka yang valid!\")\n",
        "            continue\n",
        "\n",
        "        # Validasi input\n",
        "        if guess < 0 or guess >= size:#validasi input itu jika kurang dari 0 atau lebih dari size maka indeks tidak valid dan mengulangi lagi\n",
        "            print(f\"Indeks tidak valid, pilih antara 0 hingga {size - 1}\")\n",
        "            continue\n",
        "\n",
        "        # Mengecek apakah tebakan benar\n",
        "        if treasure_map[guess] == \"X\":\n",
        "            print(f\":) Selamat! Kamu menemukan harta karun di lokasi: {guess}\")#Jika tebakan pengguna benar (indeks tebakan sama dengan indeks harta karun), program mencetak pesan selamat dan keluar dari loop\n",
        "            break\n",
        "        else:\n",
        "            print(\":( Tidak ada harta di lokasi ini. Coba lagi!\")#Jika tebakan salah, program mencetak pesan bahwa tidak ada harta karun di lokasi tersebut dan meminta pengguna untuk mencoba lagi.\n",
        "\n",
        "    print(\"Terima kasih sudah bermain!\")#Pesan akhir bahwa game sudah selesai\n",
        "\n",
        "# Jalankan permainan\n",
        "play_treasure_hunt()"
      ]
    }
  ],
  "metadata": {
    "colab": {
      "provenance": [],
      "authorship_tag": "ABX9TyMhK6gJOrgB1aJKzHjhPx0z",
      "include_colab_link": true
    },
    "kernelspec": {
      "display_name": "Python 3",
      "name": "python3"
    },
    "language_info": {
      "name": "python"
    }
  },
  "nbformat": 4,
  "nbformat_minor": 0
}