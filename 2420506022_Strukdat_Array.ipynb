{
  "nbformat": 4,
  "nbformat_minor": 0,
  "metadata": {
    "colab": {
      "provenance": [],
      "authorship_tag": "ABX9TyNF69F1H+YxIodXwKpymnxn",
      "include_colab_link": true
    },
    "kernelspec": {
      "name": "python3",
      "display_name": "Python 3"
    },
    "language_info": {
      "name": "python"
    }
  },
  "cells": [
    {
      "cell_type": "markdown",
      "metadata": {
        "id": "view-in-github",
        "colab_type": "text"
      },
      "source": [
        "<a href=\"https://colab.research.google.com/github/faizdifak/Struktur-data/blob/main/2420506022_Strukdat_Array.ipynb\" target=\"_parent\"><img src=\"https://colab.research.google.com/assets/colab-badge.svg\" alt=\"Open In Colab\"/></a>"
      ]
    },
    {
      "cell_type": "code",
      "execution_count": null,
      "metadata": {
        "id": "mj90b8hR5zpG"
      },
      "outputs": [],
      "source": []
    },
    {
      "cell_type": "code",
      "execution_count": null,
      "metadata": {
        "colab": {
          "base_uri": "https://localhost:8080/"
        },
        "id": "uS7y-qJbFEI9",
        "outputId": "9dc0fb73-0ce0-495b-e6f8-ee2c1dd28ab2"
      },
      "outputs": [
        {
          "name": "stdout",
          "output_type": "stream",
          "text": [
            "Masukkan ukuran peta (minimal 1): 7\n",
            "\n",
            "Selamat datang di Treasure Hunt! Peta memiliki 7 lokasi (0 hingga 6).\n",
            "Harta karun telah disembunyikan! Sekarang giliran pemain menebak.\n",
            "Cobalah untuk menemukan harta karun dengan menebak indeks yang benar.\n",
            "\n",
            "Peta saat ini: ['_', '_', '_', '_', '_', '_', '_']\n",
            "Masukkan indeks tebakanmu (0-6): 5\n",
            ":( Tidak ada harta di lokasi ini. Coba lagi!\n",
            "\n",
            "Peta saat ini: ['_', '_', '_', '_', '_', '_', '_']\n",
            "Masukkan indeks tebakanmu (0-6): 1\n",
            ":( Tidak ada harta di lokasi ini. Coba lagi!\n",
            "\n",
            "Peta saat ini: ['_', '_', '_', '_', '_', '_', '_']\n",
            "Masukkan indeks tebakanmu (0-6): 3\n",
            ":) Selamat! Kamu menemukan harta karun di lokasi: 3\n",
            "Terima kasih sudah bermain!\n"
          ]
        }
      ],
      "source": [
        "#Tugas\n",
        "# Import library random untuk mengacak lokasi harta karun\n",
        "import random\n",
        "\n",
        "# Fungsi untuk memulai permainan\n",
        "def play_treasure_hunt():\n",
        "    # Meminta input ukuran peta dari pengguna\n",
        "    size = int(input(\"Masukkan ukuran peta (minimal 1): \"))#Meminta pengguna untuk memasukkan ukuran peta. Jika ukuran yang dimasukkan kurang dari 1, program akan terus meminta input hingga pengguna memasukkan angka yang valid (minimal 1).\n",
        "    while size < 1:\n",
        "        print(\"Ukuran peta tidak valid. Masukkan angka minimal 1.\")#Jika ukuran peta kurang dari 1 maka tidak valid\n",
        "        size = int(input(\"Masukkan ukuran peta (minimal 1): \"))\n",
        "\n",
        "    # Membuat peta dengan harta karun tersembunyi\n",
        "    treasure_map = [\"_\" for _ in range(size)]  #Peta dibuat menggunakan dengan elemen \"_\" sebanyak size. Ini menandakan bahwa semua lokasi pada peta awalnya kosong\n",
        "\n",
        "    # Mengacak lokasi harta karun secara otomatis\n",
        "    treasure_index = random.randint(0, size - 1)  # Menggunakan random.randint untuk mengacak indeks\n",
        "    treasure_map[treasure_index] = \"X\"  # Menyembunyikan harta karun di lokasi yang diacak\n",
        "\n",
        "    print(f\"\\nSelamat datang di Treasure Hunt! Peta memiliki {size} lokasi (0 hingga {size - 1}).\")\n",
        "    print(\"Harta karun telah disembunyikan! Sekarang giliran pemain menebak.\")\n",
        "    print(\"Cobalah untuk menemukan harta karun dengan menebak indeks yang benar.\")\n",
        "\n",
        "    # Loop permainan\n",
        "    while True: #Program memasuki loop tak terbatas (while True) yang akan terus berjalan hingga pengguna menebak lokasi harta karun dengan benar.\n",
        "        # Menampilkan peta tersembunyi kepada pemain\n",
        "        print(\"\\nPeta saat ini:\", [\"_\" for _ in range(size)])  # Peta tersembunyi\n",
        "\n",
        "        # Input pemain\n",
        "        try:\n",
        "            guess = int(input(f\"Masukkan indeks tebakanmu (0-{size - 1}): \"))#Input pengguna divalidasi untuk memastikan bahwa input adalah angka dan berada dalam rentang yang benar.\n",
        "        except ValueError:\n",
        "            print(\"Masukkan angka yang valid!\")\n",
        "            continue\n",
        "\n",
        "        # Validasi input\n",
        "        if guess < 0 or guess >= size:#validasi input itu jika kurang dari 0 atau lebih dari size maka indeks tidak valid dan mengulangi lagi\n",
        "            print(f\"Indeks tidak valid, pilih antara 0 hingga {size - 1}\")\n",
        "            continue\n",
        "\n",
        "        # Mengecek apakah tebakan benar\n",
        "        if treasure_map[guess] == \"X\":\n",
        "            print(f\":) Selamat! Kamu menemukan harta karun di lokasi: {guess}\")#Jika tebakan pengguna benar (indeks tebakan sama dengan indeks harta karun), program mencetak pesan selamat dan keluar dari loop\n",
        "            break\n",
        "        else:\n",
        "            print(\":( Tidak ada harta di lokasi ini. Coba lagi!\")#Jika tebakan salah, program mencetak pesan bahwa tidak ada harta karun di lokasi tersebut dan meminta pengguna untuk mencoba lagi.\n",
        "\n",
        "    print(\"Terima kasih sudah bermain!\")#Pesan akhir bahwa game sudah selesai\n",
        "\n",
        "# Jalankan permainan\n",
        "play_treasure_hunt()"
      ]
    }
  ]
}