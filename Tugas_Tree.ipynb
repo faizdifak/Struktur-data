{
  "nbformat": 4,
  "nbformat_minor": 0,
  "metadata": {
    "colab": {
      "provenance": [],
      "authorship_tag": "ABX9TyN0fYpryamrmjjVzSswIKIv",
      "include_colab_link": true
    },
    "kernelspec": {
      "name": "python3",
      "display_name": "Python 3"
    },
    "language_info": {
      "name": "python"
    }
  },
  "cells": [
    {
      "cell_type": "markdown",
      "metadata": {
        "id": "view-in-github",
        "colab_type": "text"
      },
      "source": [
        "<a href=\"https://colab.research.google.com/github/faizdifak/Struktur-data/blob/main/Tugas_Tree.ipynb\" target=\"_parent\"><img src=\"https://colab.research.google.com/assets/colab-badge.svg\" alt=\"Open In Colab\"/></a>"
      ]
    },
    {
      "cell_type": "code",
      "execution_count": null,
      "metadata": {
        "colab": {
          "base_uri": "https://localhost:8080/"
        },
        "id": "WTj45O0623I7",
        "outputId": "7e1e2c22-6a9b-4804-f2ef-aad3db2a9f96"
      },
      "outputs": [
        {
          "output_type": "stream",
          "name": "stdout",
          "text": [
            "Hasil inorder traversal dari binary tree:\n",
            "24\n",
            "8\n",
            "17\n",
            "22\n",
            "11\n"
          ]
        }
      ],
      "source": [
        "# Tugas 1\n",
        "# Struktur Tree berdasarkan identitas saya\n",
        "\n",
        "# 1. Definisi kelas Node untuk simpul tree\n",
        "class Node:\n",
        "    def __init__(self, data):\n",
        "        self.data = data\n",
        "        self.left = None\n",
        "        self.right = None\n",
        "\n",
        "# 2. Fungsi menghitung jumlah huruf pada nama (tanpa spasi)\n",
        "def count_letters(name):\n",
        "    return len(name.replace(\" \", \"\"))\n",
        "\n",
        "# 3. Fungsi menghitung jumlah vokal\n",
        "def count_vowels(name):\n",
        "    vowels = 'aiueoAIUEO'\n",
        "    return sum(1 for char in name if char in vowels)\n",
        "\n",
        "# 4. Fungsi inorder traversal\n",
        "def inorder(node):\n",
        "    if node:\n",
        "        inorder(node.left)\n",
        "        print(node.data)\n",
        "        inorder(node.right)\n",
        "\n",
        "# ====== DATA IDENTITAS ====== #\n",
        "nama = \"Faiz Difa Kurniawan\"\n",
        "npm = \"2420506022\"\n",
        "tanggal_lahir = 24\n",
        "bulan_lahir = 11  # November\n",
        "\n",
        "# ====== PEMBUATAN NODE TREE ====== #\n",
        "root = Node(count_letters(nama))               # 17 huruf\n",
        "root.left = Node(count_vowels(nama))           # 8 vokal\n",
        "root.right = Node(int(npm[-2:]))               # 22 (dua digit terakhir NPM)\n",
        "root.left.left = Node(tanggal_lahir)           # 24 (tanggal)\n",
        "root.right.right = Node(bulan_lahir)           # 11 (bulan)\n",
        "\n",
        "# ====== OUTPUT TRAVERSAL ====== #\n",
        "print(\"Hasil inorder traversal dari binary tree:\")\n",
        "inorder(root)\n"
      ]
    },
    {
      "cell_type": "code",
      "source": [
        "# Tugas 2\n",
        "# Struktur BST berdasarkan identitas pengguna\n",
        "\n",
        "# Definisi kelas Node dan BST\n",
        "class Node:\n",
        "    def __init__(self, key):\n",
        "        self.key = key      # Nilai yang disimpan dalam node\n",
        "        self.left = None    # Pointer ke anak kiri\n",
        "        self.right = None   # Pointer ke anak kanan\n",
        "\n",
        "class BST:\n",
        "    def __init__(self):\n",
        "        self.root = None  # akar dari BST, awalnya kosong\n",
        "\n",
        "    def insert(self, key):\n",
        "        self.root = self._insert(self.root, key) # Memanggil fungsi bantuan\n",
        "\n",
        "    def _insert(self, node, key):\n",
        "        if node is None:      # Jika node kosong, buat node baru\n",
        "            return Node(key)\n",
        "        if key < node.key:    # Jika key lebih kecil, masukkan subtree kiri\n",
        "            node.left = self._insert(node.left, key)\n",
        "        else:                 # Jika key lebih besar/sama, masukkan ke subtree kanan\n",
        "            node.right = self._insert(node.right, key)\n",
        "        return node           # Kembalikan node yang telah dimodifikasi\n",
        "\n",
        "    def inorder(self, node):\n",
        "        if node:\n",
        "            self.inorder(node.left)   # Kunjungi kiri\n",
        "            print(node.key, end=' ')  # Cetak node\n",
        "            self.inorder(node.right)  # Kunjungi kanan\n",
        "\n",
        "    def preorder(self, node):\n",
        "        if node:\n",
        "            print(node.key, end=' ')  # Cetak node terlebih dahulu\n",
        "            self.preorder(node.left)  # Kunjungi kiri\n",
        "            self.preorder(node.right) # Kunjungi kanan\n",
        "\n",
        "    def postorder(self, node):\n",
        "        if node:\n",
        "            self.postorder(node.left)  # Kunjungi kiri\n",
        "            self.postorder(node.right) # Kunjungi kanan\n",
        "            print(node.key, end=' ')   # Cetak node terakhir\n",
        "\n",
        "    def search(self, key):\n",
        "        return self._search(self.root, key) # Memulai pencarian dari root\n",
        "\n",
        "    def _search(self, node, key):\n",
        "        if node is None or node.key == key: # Ditemukan atau tidak ada\n",
        "            return node\n",
        "        if key < node.key:  # Jika key lebih kecil, cari subtree kiri\n",
        "            return self._search(node.left, key)\n",
        "        return self._search(node.right, key)  # Jika lebih besar, cari di kana\n",
        "\n",
        "# ======= BAGIAN UTAMA PROGRAM ======= #\n",
        "\n",
        "# Data berdasarkan identitas:\n",
        "# NPM: 2420506022 → tiga digit terakhir = 022 → 22\n",
        "# Tanggal lahir: 24 November (24, 11)\n",
        "# ASCII huruf pertama 'F' = 70, kedua 'A' = 65\n",
        "# Dua angka bebas: 77, 99 (misalnya)\n",
        "\n",
        "data = [22, 24, 11, 70, 65, 77, 99]\n",
        "\n",
        "# Membuat BST dan memasukkan data\n",
        "bst = BST()\n",
        "for value in data:\n",
        "    bst.insert(value)\n",
        "\n",
        "# Menampilkan hasil traversal\n",
        "print(\"Inorder Traversal:\")  # Tampilan data secara terurut\n",
        "bst.inorder(bst.root)\n",
        "\n",
        "print(\"\\nPreorder Traversal:\") # Tampilan root sebelum subtree\n",
        "bst.preorder(bst.root)\n",
        "\n",
        "print(\"\\nPostorder Traversal:\") # Tampilan root setelah subtree\n",
        "bst.postorder(bst.root)\n",
        "\n",
        "# Operasi Pencarian\n",
        "cari1 = 22  # Angka yang ada di BST (dua digit terakhir NPM)\n",
        "cari2 = 55  # angka tidak ada di BST\n",
        "\n",
        "print(f\"\\n\\nPencarian angka {cari1}:\")\n",
        "print(\"Ditemukan\" if bst.search(cari1) else \"Tidak ditemukan\")\n",
        "\n",
        "print(f\"Pencarian angka {cari2}:\")\n",
        "print(\"Ditemukan\" if bst.search(cari2) else \"Tidak ditemukan\")"
      ],
      "metadata": {
        "colab": {
          "base_uri": "https://localhost:8080/"
        },
        "id": "L6lfAEaIBKgw",
        "outputId": "11f53f70-e47f-4265-9e81-137fd92f3541"
      },
      "execution_count": null,
      "outputs": [
        {
          "output_type": "stream",
          "name": "stdout",
          "text": [
            "Inorder Traversal:\n",
            "11 22 24 65 70 77 99 \n",
            "Preorder Traversal:\n",
            "22 11 24 70 65 77 99 \n",
            "Postorder Traversal:\n",
            "11 65 99 77 70 24 22 \n",
            "\n",
            "Pencarian angka 22:\n",
            "Ditemukan\n",
            "Pencarian angka 55:\n",
            "Tidak ditemukan\n"
          ]
        }
      ]
    }
  ]
}