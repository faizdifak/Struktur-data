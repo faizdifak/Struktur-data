{
  "nbformat": 4,
  "nbformat_minor": 0,
  "metadata": {
    "colab": {
      "provenance": [],
      "authorship_tag": "ABX9TyN+uHBtunj0+Htton/gTdeI",
      "include_colab_link": true
    },
    "kernelspec": {
      "name": "python3",
      "display_name": "Python 3"
    },
    "language_info": {
      "name": "python"
    }
  },
  "cells": [
    {
      "cell_type": "markdown",
      "metadata": {
        "id": "view-in-github",
        "colab_type": "text"
      },
      "source": [
        "<a href=\"https://colab.research.google.com/github/faizdifak/Struktur-data/blob/main/2420506022_Strukdat_SearchingTugas.ipynb\" target=\"_parent\"><img src=\"https://colab.research.google.com/assets/colab-badge.svg\" alt=\"Open In Colab\"/></a>"
      ]
    },
    {
      "cell_type": "code",
      "execution_count": null,
      "metadata": {
        "colab": {
          "base_uri": "https://localhost:8080/"
        },
        "id": "wmLPRT5gQbFK",
        "outputId": "b5f3b8ed-8758-4308-ef50-206244cd0b3a"
      },
      "outputs": [
        {
          "output_type": "stream",
          "name": "stdout",
          "text": [
            " Hasil Perbandingan Algoritma Searching:\n",
            "+---------------+----------+----------+-----------------------+--------------+\n",
            "| Algoritma     |   Target |   Indeks |   Jumlah Perbandingan | Status       |\n",
            "+===============+==========+==========+=======================+==============+\n",
            "| Linear Search |   499588 |   464161 |                464162 | \u001b[92mDitemukan ✅\u001b[0m |\n",
            "+---------------+----------+----------+-----------------------+--------------+\n",
            "| Binary Search |   499588 |   350000 |                    19 | \u001b[92mDitemukan ✅\u001b[0m |\n",
            "+---------------+----------+----------+-----------------------+--------------+\n",
            "| Jump Search   |   499588 |   350000 |                   971 | \u001b[92mDitemukan ✅\u001b[0m |\n",
            "+---------------+----------+----------+-----------------------+--------------+\n"
          ]
        }
      ],
      "source": [
        "#Tugas\n",
        "import random\n",
        "import pandas as pd\n",
        "import math\n",
        "\n",
        "random_number = random.sample(range(1, 1000001), 700000)\n",
        "\n",
        "sorted_number = sorted(random_number)\n",
        "\n",
        "target = sorted_number[len(sorted_number) // 2]\n",
        "\n",
        "def linear_search(arr, target):\n",
        "    count = 0\n",
        "    for i in range(len(arr)):\n",
        "        count += 1\n",
        "        if arr[i] == target:\n",
        "            return i, count\n",
        "    return -1, count\n",
        "\n",
        "def binary_search(arr, target):\n",
        "    low, high = 0, len(arr) - 1\n",
        "    count = 0\n",
        "\n",
        "    while low <= high:\n",
        "        count += 1\n",
        "        mid = (low + high) // 2\n",
        "\n",
        "        if arr[mid] == target:\n",
        "            return mid, count\n",
        "        elif arr[mid] < target:\n",
        "            low = mid + 1\n",
        "        else:\n",
        "            high = mid - 1\n",
        "\n",
        "    return -1, count\n",
        "\n",
        "def jump_search(arr, target):\n",
        "    n = len(arr)\n",
        "    step = int(math.sqrt(n))\n",
        "    prev = 0\n",
        "    count = 0\n",
        "\n",
        "    while prev < n and arr[min(step, n) - 1] < target:\n",
        "        count += 1\n",
        "        prev = step\n",
        "        step += int(math.sqrt(n))\n",
        "        if prev >= n:\n",
        "            return -1, count\n",
        "\n",
        "    for i in range(prev, min(step, n)):\n",
        "        count += 1\n",
        "        if arr[i] == target:\n",
        "            return i, count\n",
        "\n",
        "    return -1, count\n",
        "\n",
        "index_linear, comparisons_linear = linear_search(random_number, target)\n",
        "index_binary, comparisons_binary = binary_search(sorted_number, target)\n",
        "index_jump, comparisons_jump = jump_search(sorted_number, target)\n",
        "\n",
        "GREEN = \"\\033[92m\"\n",
        "RED = \"\\033[91m\"\n",
        "RESET = \"\\033[0m\"\n",
        "\n",
        "def get_status(index):\n",
        "     return f\"{GREEN}Ditemukan ✅{RESET}\" if index != -1 else f\"{RED}Tidak Ditemukan ❌{RESET}\"\n",
        "\n",
        "data = {\n",
        "    \"Algoritma\": [\"Linear Search\", \"Binary Search\", \"Jump Search\"],\n",
        "    \"Target\": [target] * 3,\n",
        "    \"Indeks\": [index_linear if index_linear != -1 else \"N/A\",\n",
        "               index_binary if index_binary != -1 else \"N/A\",\n",
        "               index_jump if index_jump != -1 else \"N/A\"],\n",
        "    \"Jumlah Perbandingan\": [comparisons_linear, comparisons_binary, comparisons_jump],\n",
        "    \"Status\": [get_status(index_linear), get_status(index_binary), get_status(index_jump)]\n",
        "}\n",
        "\n",
        "df = pd.DataFrame(data)\n",
        "\n",
        "print(\" Hasil Perbandingan Algoritma Searching:\")\n",
        "print(df.to_markdown(index=False, tablefmt=\"grid\"))"
      ]
    }
  ]
}