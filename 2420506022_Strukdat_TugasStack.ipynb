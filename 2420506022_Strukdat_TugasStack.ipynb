{
  "nbformat": 4,
  "nbformat_minor": 0,
  "metadata": {
    "colab": {
      "provenance": [],
      "authorship_tag": "ABX9TyMedchzk63Fs+ZHljjV8OaL",
      "include_colab_link": true
    },
    "kernelspec": {
      "name": "python3",
      "display_name": "Python 3"
    },
    "language_info": {
      "name": "python"
    }
  },
  "cells": [
    {
      "cell_type": "markdown",
      "metadata": {
        "id": "view-in-github",
        "colab_type": "text"
      },
      "source": [
        "<a href=\"https://colab.research.google.com/github/faizdifak/Struktur-data/blob/main/2420506022_Strukdat_TugasStack.ipynb\" target=\"_parent\"><img src=\"https://colab.research.google.com/assets/colab-badge.svg\" alt=\"Open In Colab\"/></a>"
      ]
    },
    {
      "cell_type": "code",
      "execution_count": null,
      "metadata": {
        "colab": {
          "base_uri": "https://localhost:8080/"
        },
        "id": "8yhfJttw6d1h",
        "outputId": "623a4ddf-537e-4b21-9461-be6a6a96a8b4"
      },
      "outputs": [
        {
          "output_type": "stream",
          "name": "stdout",
          "text": [
            "\n",
            "Pilihan: push (masukkan barang), pop (keluarkan barang), display (lihat isi gudang), kapasitas (lihat kapasitas gudang), keluar (keluar dari gudang)\n",
            "Masukkan perintah: push\n",
            "Masukkan nama barang: Rokok\n",
            "'Rokok' telah ditambahkan ke gudang.\n",
            "\n",
            "Pilihan: push (masukkan barang), pop (keluarkan barang), display (lihat isi gudang), kapasitas (lihat kapasitas gudang), keluar (keluar dari gudang)\n",
            "Masukkan perintah: Kopi\n",
            "Perintah tidak valid! Silakan masukkan opsi yang benar.\n",
            "\n",
            "Pilihan: push (masukkan barang), pop (keluarkan barang), display (lihat isi gudang), kapasitas (lihat kapasitas gudang), keluar (keluar dari gudang)\n",
            "Masukkan perintah: pop\n",
            "'Rokok' telah dihapus dari gudang.\n",
            "\n",
            "Pilihan: push (masukkan barang), pop (keluarkan barang), display (lihat isi gudang), kapasitas (lihat kapasitas gudang), keluar (keluar dari gudang)\n",
            "Masukkan perintah: push\n",
            "Masukkan nama barang: Susu\n",
            "'Susu' telah ditambahkan ke gudang.\n",
            "\n",
            "Pilihan: push (masukkan barang), pop (keluarkan barang), display (lihat isi gudang), kapasitas (lihat kapasitas gudang), keluar (keluar dari gudang)\n",
            "Masukkan perintah: display\n",
            "Isi gudang saat ini (dari atas ke bawah):\n",
            "Susu\n",
            "\n",
            "Pilihan: push (masukkan barang), pop (keluarkan barang), display (lihat isi gudang), kapasitas (lihat kapasitas gudang), keluar (keluar dari gudang)\n",
            "Masukkan perintah: kapasitas\n",
            "Kapasitas Maksimum Gudang: 56 item\n",
            "\n",
            "Pilihan: push (masukkan barang), pop (keluarkan barang), display (lihat isi gudang), kapasitas (lihat kapasitas gudang), keluar (keluar dari gudang)\n",
            "Masukkan perintah: keluar\n",
            "Keluar dari gudang.\n"
          ]
        }
      ],
      "source": [
        "#Tugas\n",
        "class Gg:\n",
        "    def __init__(self, kapasitas_maksimum):\n",
        "        self.stack = []\n",
        "        self.kapasitas_maksimum = kapasitas_maksimum\n",
        "\n",
        "    def push(self, item):\n",
        "        if len(self.stack) >= self.kapasitas_maksimum:\n",
        "            print(\"Gudang penuh! Tidak dapat menambahkan barang lagi.\")\n",
        "        else:\n",
        "            self.stack.append(item)\n",
        "            print(f\"'{item}' telah ditambahkan ke gudang.\")\n",
        "\n",
        "    def pop(self):\n",
        "        if not self.stack:\n",
        "            print(\"Gudang kosong! Tidak ada barang yang dapat dihapus.\")\n",
        "        else:\n",
        "            item_dihapus = self.stack.pop()\n",
        "            print(f\"'{item_dihapus}' telah dihapus dari gudang.\")\n",
        "\n",
        "    def display(self):\n",
        "        if not self.stack:\n",
        "            print(\"Gudang kosong.\")\n",
        "        else:\n",
        "            print(\"Isi gudang saat ini (dari atas ke bawah):\")\n",
        "            for item in reversed(self.stack):\n",
        "                print(item)\n",
        "\n",
        "def main():\n",
        "    kapasitas_maksimum = 56\n",
        "    gudang = Gg(kapasitas_maksimum)\n",
        "\n",
        "    while True:\n",
        "        print(\"\\nPilihan: push (masukkan barang), pop (keluarkan barang), display (lihat isi gudang), kapasitas (lihat kapasitas gudang), keluar (keluar dari gudang)\")\n",
        "        pilihan = input(\"Masukkan perintah: \").strip().lower()\n",
        "\n",
        "        if pilihan == \"push\":\n",
        "            item = input(\"Masukkan nama barang: \").strip()\n",
        "            gudang.push(item)\n",
        "        elif pilihan == \"pop\":\n",
        "            gudang.pop()\n",
        "        elif pilihan == \"display\":\n",
        "            gudang.display()\n",
        "        elif pilihan == \"kapasitas\":\n",
        "            print(f\"Kapasitas Maksimum Gudang: {gudang.kapasitas_maksimum} item\")\n",
        "        elif pilihan == \"keluar\":\n",
        "            print(\"Keluar dari gudang.\")\n",
        "            break\n",
        "        else:\n",
        "            print(\"Perintah tidak valid! Silakan masukkan opsi yang benar.\")\n",
        "\n",
        "if __name__ == \"__main__\":\n",
        "    main()"
      ]
    }
  ]
}