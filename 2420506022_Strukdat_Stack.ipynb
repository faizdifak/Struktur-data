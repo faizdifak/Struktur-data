{
  "nbformat": 4,
  "nbformat_minor": 0,
  "metadata": {
    "colab": {
      "provenance": [],
      "authorship_tag": "ABX9TyP+cqBwAy29GN5eCT0kMPQl",
      "include_colab_link": true
    },
    "kernelspec": {
      "name": "python3",
      "display_name": "Python 3"
    },
    "language_info": {
      "name": "python"
    }
  },
  "cells": [
    {
      "cell_type": "markdown",
      "metadata": {
        "id": "view-in-github",
        "colab_type": "text"
      },
      "source": [
        "<a href=\"https://colab.research.google.com/github/faizdifak/Struktur-data/blob/main/2420506022_Strukdat_Stack.ipynb\" target=\"_parent\"><img src=\"https://colab.research.google.com/assets/colab-badge.svg\" alt=\"Open In Colab\"/></a>"
      ]
    },
    {
      "cell_type": "code",
      "execution_count": null,
      "metadata": {
        "colab": {
          "base_uri": "https://localhost:8080/"
        },
        "id": "2CieulAFANEG",
        "outputId": "51c05999-dc61-4f03-d431-99a39a2962aa"
      },
      "outputs": [
        {
          "output_type": "stream",
          "name": "stdout",
          "text": [
            "Undo: Menghapus 'Ini teks ketiga.'\n",
            "Undo: Menghapus 'Ini teks kedua.'\n"
          ]
        }
      ],
      "source": [
        "# Implementasi Stack dengan List Python – Fitur \"Undo\" dalam Teks Editor (pop())\n",
        "class TextEditor:\n",
        "    def __init__(self):\n",
        "        self.history = []\n",
        "\n",
        "    def write(self, text):\n",
        "        self.history.append(text)\n",
        "\n",
        "    def undo(self):\n",
        "        if self.history:\n",
        "            return f\"Undo: Menghapus '{self.history.pop()}'\"\n",
        "        return \"Tidak ada yang bisa di-undo\"\n",
        "# Contoh Penggunaan\n",
        "editor = TextEditor()\n",
        "editor.write(\"Halo, ini teks pertama.\")\n",
        "editor.write(\"Ini teks kedua.\")\n",
        "editor.write(\"Ini teks ketiga.\")\n",
        "print(editor.undo())\n",
        "print(editor.undo())\n"
      ]
    },
    {
      "cell_type": "code",
      "source": [
        "#Latihan 1\n",
        "class Calculator:\n",
        "    def __init__(self, initial_value):\n",
        "        # Inisialisasi nilai awal kalkulator dan riwayat operasi\n",
        "        self.value = initial_value\n",
        "        self.history = []\n",
        "\n",
        "    def add(self, number):\n",
        "        # Tambah nilai dengan angka yang diberikan dan simpan hasil ke dalam riwayat\n",
        "        self.value += number\n",
        "        self.history.append(self.value)\n",
        "\n",
        "    def subtract(self, number):\n",
        "        # Kurangi nilai dengan angka yang diberikan dan simpan hasil ke dalam riwayat\n",
        "        self.value -= number\n",
        "        self.history.append(self.value)\n",
        "\n",
        "    def multiply(self, number):\n",
        "        # Kalikan nilai dengan angka yang diberikan dan simpan hasil ke dalam riwayat\n",
        "        self.value *= number\n",
        "        self.history.append(self.value)\n",
        "\n",
        "    def divide(self, number):\n",
        "        # Bagi nilai dengan angka yang diberikan jika bukan nol, lalu simpan hasil ke dalam riwayat\n",
        "        if number != 0:\n",
        "            self.value /= number\n",
        "            self.history.append(self.value)\n",
        "        else:\n",
        "            print(\"Pembagian dengan nol tidak diperbolehkan.\")\n",
        "\n",
        "    def undo(self):\n",
        "        # Batalkan operasi terakhir dengan mengembalikan nilai sebelumnya\n",
        "        if self.history:\n",
        "            self.value = self.history.pop()\n",
        "            print(f\"Undo lancar : Nilai saat ini adalah {self.value}\")\n",
        "        else:\n",
        "            print(f\"Tidak ada operasi yang bisa di-undo\")\n",
        "\n",
        "\n",
        "#program utamanya\n",
        "# Contoh Penggunaan dengan dua digit terakhir NPM sebagai angka awal\n",
        "npm = \"2420506022\"\n",
        "initial_value = int(npm[-2:])  # Mengambil dua digit terakhir NPM sebagai nilai awal\n",
        "\n",
        "calc = Calculator(initial_value)  # Inisialisasi kalkulator dengan nilai awal\n",
        "\n",
        "calc.add(10)  # Tambah 10\n",
        "print(f\"Setelah ditambahkan: {calc.value}\")\n",
        "\n",
        "calc.multiply(2)  # Kali 2\n",
        "print(f\"Setelah dikali : {calc.value}\")\n",
        "\n",
        "calc.subtract(5)  # Kurangi 5\n",
        "print(f\"Setelah dikurangi : {calc.value}\")\n",
        "\n",
        "print(calc.undo())\n",
        "print(calc.undo())\n",
        "print(calc.undo())\n"
      ],
      "metadata": {
        "colab": {
          "base_uri": "https://localhost:8080/"
        },
        "id": "GFFDh-9OA8MG",
        "outputId": "c3a25732-0736-4219-a676-393b4da98dbc"
      },
      "execution_count": null,
      "outputs": [
        {
          "output_type": "stream",
          "name": "stdout",
          "text": [
            "Setelah ditambahkan: 32\n",
            "Setelah dikali : 64\n",
            "Setelah dikurangi : 59\n",
            "Undo lancar : Nilai saat ini adalah 59\n",
            "None\n",
            "Undo lancar : Nilai saat ini adalah 64\n",
            "None\n",
            "Undo lancar : Nilai saat ini adalah 32\n",
            "None\n"
          ]
        }
      ]
    },
    {
      "cell_type": "code",
      "source": [
        "#Implementasi Stack dengan collections.deque – Navigasi History Browser (push())\n",
        "from collections import deque\n",
        "class BrowserHistory:\n",
        "    def __init__(self):\n",
        "        self.history = deque()\n",
        "\n",
        "    def visit(self, url):\n",
        "        self.history.append(url)\n",
        "        print(f\"Mengunjungi: {url}\")\n",
        "\n",
        "    def back(self):\n",
        "        if self.history:\n",
        "           print(f\"Kembali ke: {self.history.pop()}\")\n",
        "        else:\n",
        "          print(\"Tidak ada riwayat!\")\n",
        "# Contoh Penggunaan\n",
        "browser = BrowserHistory()\n",
        "browser.visit(\"google.com\")\n",
        "browser.visit(\"youtube.com\")\n",
        "browser.visit(\"github.com\")\n",
        "\n",
        "browser.back()\n",
        "browser.back()"
      ],
      "metadata": {
        "colab": {
          "base_uri": "https://localhost:8080/"
        },
        "id": "n3Y_qTmGDwXz",
        "outputId": "b001c740-1790-4628-ef74-37d2e3dbfb0c"
      },
      "execution_count": null,
      "outputs": [
        {
          "output_type": "stream",
          "name": "stdout",
          "text": [
            "Mengunjungi: google.com\n",
            "Mengunjungi: youtube.com\n",
            "Mengunjungi: github.com\n",
            "Kembali ke: github.com\n",
            "Kembali ke: youtube.com\n"
          ]
        }
      ]
    },
    {
      "cell_type": "code",
      "source": [
        "#Latihan 2\n",
        "from collections import deque\n",
        "\n",
        "class MobileAppnavigation:\n",
        "    def __init__(self):\n",
        "        self.history = deque()\n",
        "\n",
        "    def visit_feature(self, feature):\n",
        "        self.history.append(feature)\n",
        "        print(f\"Mengunjungi fitur: {feature}\")\n",
        "\n",
        "    def back(self):\n",
        "        if self.history:\n",
        "            self.history.pop()\n",
        "            if self.history:\n",
        "                print(f\"Kembali ke fitur: {self.history[-1]}\")\n",
        "            else:\n",
        "                print(\"Tidak ada riwayat!\")\n",
        "\n",
        "    def generate_feature_name(self,birth_month, npm_last_two): #Added self parameter to indicate it is a method of the class\n",
        "        return birth_month[0].upper() + npm_last_two\n",
        "\n",
        "\n",
        "\n",
        "birth_month = \"November\"\n",
        "npm_last_two = \"22\"\n",
        "\n",
        "\n",
        "feature1 = MobileAppnavigation.generate_feature_name(MobileAppnavigation(), birth_month, npm_last_two) + \"_Dashboard\" #Calling the generate_feature_name using the class name\n",
        "feature2 = MobileAppnavigation.generate_feature_name(MobileAppnavigation(), birth_month, npm_last_two) + \"_Profile\"  #Calling the generate_feature_name using the class name\n",
        "feature3 = MobileAppnavigation.generate_feature_name(MobileAppnavigation(), birth_month, npm_last_two) + \"_Settings\" #Calling the generate_feature_name using the class name\n",
        "\n",
        "# Contoh Penggunaan\n",
        "app_history = MobileAppnavigation()\n",
        "app_history.visit_feature(feature1)\n",
        "app_history.visit_feature(feature2)\n",
        "app_history.visit_feature(feature3)\n",
        "\n",
        "app_history.back()  # Kembali ke fitur\n",
        "app_history.back()  # Kembali ke fitur\n",
        "app_history.back()  # Kembali ke fitur\n",
        "\n"
      ],
      "metadata": {
        "id": "2ruULAX4ELz7",
        "colab": {
          "base_uri": "https://localhost:8080/"
        },
        "outputId": "26330457-fa15-45f1-dca1-e1126e6abdbf"
      },
      "execution_count": null,
      "outputs": [
        {
          "output_type": "stream",
          "name": "stdout",
          "text": [
            "Mengunjungi fitur: N22_Dashboard\n",
            "Mengunjungi fitur: N22_Profile\n",
            "Mengunjungi fitur: N22_Settings\n",
            "Kembali ke fitur: N22_Profile\n",
            "Kembali ke fitur: N22_Dashboard\n",
            "Tidak ada riwayat!\n"
          ]
        }
      ]
    },
    {
      "cell_type": "code",
      "source": [
        "# Implementasi Stack dengan queue.LifoQueue – Sistem Pencadangan File (peek())\n",
        "from queue import LifoQueue\n",
        "\n",
        "class BackupSystem:\n",
        "    def __init__(self):\n",
        "        self.backups = LifoQueue()\n",
        "\n",
        "    def backup(self, version):\n",
        "        self.backups.put(version)\n",
        "\n",
        "    def latest_backup(self):\n",
        "        if not self.backups.empty():\n",
        "           return f\"Versi terbaru: {self.backups.queue[-1]}\"\n",
        "        return \"Tidak ada cadangan!\"\n",
        "# Contoh Penggunaan\n",
        "backup_system = BackupSystem()\n",
        "backup_system.backup(\"Backup_1\")\n",
        "backup_system.backup(\"Backup_2\")\n",
        "backup_system.backup(\"Backup_3\")\n",
        "\n",
        "print(backup_system.latest_backup())"
      ],
      "metadata": {
        "colab": {
          "base_uri": "https://localhost:8080/"
        },
        "id": "b6IS2s_3ESIL",
        "outputId": "5c396e0e-d961-418c-c328-c6fee337a63a"
      },
      "execution_count": null,
      "outputs": [
        {
          "output_type": "stream",
          "name": "stdout",
          "text": [
            "Versi terbaru: Backup_3\n"
          ]
        }
      ]
    },
    {
      "cell_type": "code",
      "source": [
        "#Latihan 3\n",
        "from queue import LifoQueue\n",
        "\n",
        "class SPDE:\n",
        "    def __init__(self):\n",
        "        self.drafts = LifoQueue()\n",
        "\n",
        "    def simpan_draft(self, nama_mahasiswa, npm, konten):\n",
        "    # ==== Menyimpan draft email ke dalam Stack === #\n",
        "        subjek = f\"{nama_mahasiswa[:2]}{npm[-2:]}\"\n",
        "        draft = {\"subjek\": subjek, \"konten\": konten}\n",
        "        self.drafts.put(draft)\n",
        "        print(f\"Draft email dengan subjek '{subjek}' disimpan.\")\n",
        "\n",
        "    def lihat_draft_terakhir(self):\n",
        "    # ==== Melihat draft email terakhir yang akan disimpan ==== #\n",
        "        if not self.drafts.empty():\n",
        "            draft = self.drafts.queue[-1]\n",
        "            print(\"\\nDraft Email Terakhir:\")\n",
        "            print(f\"Subjek: {draft['subjek']}\")\n",
        "            print(f\"Konten: {draft['konten']}\")\n",
        "        else:\n",
        "            print(\"Tidak ada draft email yang tersimpan.\")\n",
        "\n",
        "sistem_email = SPDE()\n",
        "\n",
        "sistem_email.simpan_draft(\"Kurniawan\", \"24506036\", \"Isi email draft 1\")\n",
        "sistem_email.simpan_draft(\"Jennifer\", \"35029526\", \"Isi email draft 2\")\n",
        "sistem_email.simpan_draft(\"Sambo\", \"5467907\", \"Isi email draft 3\")\n",
        "\n",
        "sistem_email.lihat_draft_terakhir()"
      ],
      "metadata": {
        "id": "t65fYieoEwsr",
        "colab": {
          "base_uri": "https://localhost:8080/"
        },
        "outputId": "9a834967-a2b6-4516-acef-6e5bccbebf63"
      },
      "execution_count": null,
      "outputs": [
        {
          "output_type": "stream",
          "name": "stdout",
          "text": [
            "Draft email dengan subjek 'Ku36' disimpan.\n",
            "Draft email dengan subjek 'Je26' disimpan.\n",
            "Draft email dengan subjek 'Sa07' disimpan.\n",
            "\n",
            "Draft Email Terakhir:\n",
            "Subjek: Sa07\n",
            "Konten: Isi email draft 3\n"
          ]
        }
      ]
    },
    {
      "cell_type": "code",
      "source": [
        "# Implementasi Stack dengan OOP – Manajemen Antrian Pelanggan (isEmpty())\n",
        "class CustomerService:\n",
        "    def __init__(self):\n",
        "        self.tickets = []\n",
        "\n",
        "    def add_ticket(self, ticket):\n",
        "        self.tickets.append(ticket)\n",
        "\n",
        "    def process_ticket(self):\n",
        "        if not self.is_empty():\n",
        "           return f\"Memproses tiket: {self.tickets.pop()}\"\n",
        "        return \"Tidak ada tiket yang harus diproses.\"\n",
        "\n",
        "    def is_empty(self):\n",
        "        return len(self.tickets) == 0\n",
        "# Contoh Penggunaan\n",
        "service = CustomerService()\n",
        "service.add_ticket(\"Tiket 001\")\n",
        "service.add_ticket(\"Tiket 002\")\n",
        "\n",
        "print(service.process_ticket())\n",
        "print(service.is_empty())"
      ],
      "metadata": {
        "colab": {
          "base_uri": "https://localhost:8080/"
        },
        "id": "Bo18vgvvEy9J",
        "outputId": "3746ff27-2f6b-47f8-f6c6-0b8984180078"
      },
      "execution_count": null,
      "outputs": [
        {
          "output_type": "stream",
          "name": "stdout",
          "text": [
            "Memproses tiket: Tiket 002\n",
            "False\n"
          ]
        }
      ]
    },
    {
      "cell_type": "code",
      "source": [
        "#Latihan 4\n",
        "class SATB:\n",
        "    def __init__(self):\n",
        "        self.tickets = []\n",
        "\n",
        "    def add_ticket(self, bulan_lahir, npm):\n",
        "    # ==== Menambahkan tiket berdasarkan huruf pertama bulan lahir + dua digit terakhir NPM ==== #\n",
        "        nama_film = bulan_lahir[0].upper() + npm[-2:]\n",
        "        self.tickets.append(nama_film)\n",
        "        print(f\"Tiket untuk film '{nama_film}' sudah dibeli.\")\n",
        "\n",
        "    def process_ticket(self):\n",
        "    # ==== Memproses tiket terakhir dalam antrean (LIFO) ==== #\n",
        "        if not self.is_empty():\n",
        "            return f\"Memproses tiket: {self.tickets.pop()}\"\n",
        "        return \"Tidak ada tiket yang harus diproses .\"\n",
        "\n",
        "    def is_empty(self):\n",
        "    # ==== Memeriksa apakah Stack kosong ==== #\n",
        "        return len(self.tickets) == 0\n",
        "\n",
        "bioskop = SATB()\n",
        "\n",
        "\n",
        "bioskop.add_ticket(\"November\", \"46587903\")\n",
        "bioskop.add_ticket(\"Juli\", \"17469035\")\n",
        "bioskop.add_ticket(\"Desember\", \"46379278\")\n",
        "\n",
        "\n",
        "print(bioskop.process_ticket())\n",
        "print(bioskop.process_ticket())\n",
        "print(bioskop.process_ticket())\n",
        "print(bioskop.process_ticket())"
      ],
      "metadata": {
        "id": "t8l2RzSWFLgQ",
        "colab": {
          "base_uri": "https://localhost:8080/"
        },
        "outputId": "b61d095f-3688-4632-defd-dbce3eec83e1"
      },
      "execution_count": null,
      "outputs": [
        {
          "output_type": "stream",
          "name": "stdout",
          "text": [
            "Tiket untuk film 'N03' sudah dibeli.\n",
            "Tiket untuk film 'J35' sudah dibeli.\n",
            "Tiket untuk film 'D78' sudah dibeli.\n",
            "Memproses tiket: D78\n",
            "Memproses tiket: J35\n",
            "Memproses tiket: N03\n",
            "Tidak ada tiket yang harus diproses .\n"
          ]
        }
      ]
    }
  ]
}