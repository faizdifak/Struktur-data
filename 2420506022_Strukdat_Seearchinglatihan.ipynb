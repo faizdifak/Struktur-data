{
  "nbformat": 4,
  "nbformat_minor": 0,
  "metadata": {
    "colab": {
      "provenance": [],
      "authorship_tag": "ABX9TyNdVIMmif+rEIIg0NELxRO0",
      "include_colab_link": true
    },
    "kernelspec": {
      "name": "python3",
      "display_name": "Python 3"
    },
    "language_info": {
      "name": "python"
    }
  },
  "cells": [
    {
      "cell_type": "markdown",
      "metadata": {
        "id": "view-in-github",
        "colab_type": "text"
      },
      "source": [
        "<a href=\"https://colab.research.google.com/github/faizdifak/Struktur-data/blob/main/2420506022_Strukdat_Seearchinglatihan.ipynb\" target=\"_parent\"><img src=\"https://colab.research.google.com/assets/colab-badge.svg\" alt=\"Open In Colab\"/></a>"
      ]
    },
    {
      "cell_type": "code",
      "execution_count": null,
      "metadata": {
        "colab": {
          "base_uri": "https://localhost:8080/"
        },
        "id": "8DQVP8xvpxxf",
        "outputId": "791033b3-c119-410a-cbb9-ec216c3c8286"
      },
      "outputs": [
        {
          "output_type": "stream",
          "name": "stdout",
          "text": [
            "Masukkan 3 digit terakhir NPM anda: 022\n",
            "Elemen ditemukan pada indeks 1\n"
          ]
        }
      ],
      "source": [
        "# Implementasi Linear Search\n",
        "def linear_search(arr, target):\n",
        "    for i in range(len(arr)):\n",
        "        if arr[i] == target:\n",
        "           return i\n",
        "    return -1\n",
        "\n",
        "# Gantilah dengan angka acak dan NPM anda\n",
        "arr = [24, 22, 50, 60, 20, 30, 34, 67, 90, 11]\n",
        "target = int(input(\"Masukkan 3 digit terakhir NPM anda: \"))\n",
        "\n",
        "result = linear_search(arr, target)\n",
        "\n",
        "if result != -1:\n",
        "    print(f\"Elemen ditemukan pada indeks {result}\")\n",
        "else:\n",
        "    print(\"Elemen tidak ditemukan\")"
      ]
    },
    {
      "cell_type": "code",
      "source": [
        "# Implementasi Binary Search\n",
        "def binary_search(arr, target):\n",
        "    low = 0\n",
        "    high = len(arr) -1\n",
        "\n",
        "    while low <= high:\n",
        "        mid = (low + high) // 2\n",
        "        if arr[mid] == target:\n",
        "           return mid\n",
        "        elif arr[mid] < target:\n",
        "           low = mid + 1\n",
        "        else:\n",
        "           high = mid -1\n",
        "    return -1\n",
        "\n",
        "#Gantilah dengan angka terurut dan tanggal lahir anda (DDMM)\n",
        "arr = [1, 2, 3, 4, 5, 22, 25]\n",
        "target = int(input(\"Masukkan tanggal lahir anda (DDMM): \"))\n",
        "\n",
        "result = binary_search(arr, target)\n",
        "\n",
        "if result != -1:\n",
        "    print(f\"Elemen ditemukan pada indeks {result}\")\n",
        "else:\n",
        "    print(\"Elemen tidak ditemukkan\")"
      ],
      "metadata": {
        "colab": {
          "base_uri": "https://localhost:8080/"
        },
        "id": "v28VhLParXTr",
        "outputId": "237df7f4-cb40-4678-b612-5b19a131d5d4"
      },
      "execution_count": null,
      "outputs": [
        {
          "output_type": "stream",
          "name": "stdout",
          "text": [
            "Masukkan tanggal lahir anda (DDMM): 22\n",
            "Elemen ditemukan pada indeks 5\n"
          ]
        }
      ]
    },
    {
      "cell_type": "code",
      "source": [
        "#Implementasi Jump Search\n",
        "import math\n",
        "\n",
        "def jump_search(arr, target):\n",
        "    n = len(arr)\n",
        "    step = int(math.sqrt(n))\n",
        "    prev = 0\n",
        "\n",
        "    while arr[min(step, n) -1] < target:\n",
        "        prev = step\n",
        "        step += int(math.sqrt(n))\n",
        "        if prev >= n:\n",
        "            return -1\n",
        "\n",
        "    for i in range(prev, min(step, n)):\n",
        "        if arr[i] == target:\n",
        "            return i\n",
        "    return -1\n",
        "\n",
        "#Gantilah dengan daftar nama teman teman anda dalam daftar urutan alfabet\n",
        "arr = [\"Aldi\", \"Bagas\", \"Canti\", \"Doni\", \"Eva\", \"Faiz\"]\n",
        "target = input(\"Masukkan inisial nama anda: \")\n",
        "\n",
        "result = jump_search(arr, target)\n",
        "\n",
        "if result != -1:\n",
        "   print(f\"Elemen tidak ditemukkan pada indeks {result}\")\n",
        "else:\n",
        "   print(\"Elemen tidak ditemukkan\")"
      ],
      "metadata": {
        "colab": {
          "base_uri": "https://localhost:8080/"
        },
        "id": "mKz8T9GZtSJr",
        "outputId": "6b7f3622-7ae4-451f-da88-a049a22b310e"
      },
      "execution_count": null,
      "outputs": [
        {
          "output_type": "stream",
          "name": "stdout",
          "text": [
            "Masukkan inisial nama anda: Canti\n",
            "Elemen tidak ditemukkan pada indeks 2\n"
          ]
        }
      ]
    }
  ]
}