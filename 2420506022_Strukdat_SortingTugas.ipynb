{
  "nbformat": 4,
  "nbformat_minor": 0,
  "metadata": {
    "colab": {
      "provenance": [],
      "authorship_tag": "ABX9TyO9A7U/bvPpZRh+AlQFUr1q",
      "include_colab_link": true
    },
    "kernelspec": {
      "name": "python3",
      "display_name": "Python 3"
    },
    "language_info": {
      "name": "python"
    }
  },
  "cells": [
    {
      "cell_type": "markdown",
      "metadata": {
        "id": "view-in-github",
        "colab_type": "text"
      },
      "source": [
        "<a href=\"https://colab.research.google.com/github/faizdifak/Struktur-data/blob/main/2420506022_Strukdat_SortingTugas.ipynb\" target=\"_parent\"><img src=\"https://colab.research.google.com/assets/colab-badge.svg\" alt=\"Open In Colab\"/></a>"
      ]
    },
    {
      "cell_type": "code",
      "execution_count": null,
      "metadata": {
        "colab": {
          "base_uri": "https://localhost:8080/"
        },
        "id": "IOlXz-Bx3rpt",
        "outputId": "8654a0ba-7eb7-4327-f348-4731d636287e"
      },
      "outputs": [
        {
          "output_type": "stream",
          "name": "stdout",
          "text": [
            "Produk diurutkan berdasarkan harga (rendah ke tinggi):\n",
            "Mie Sakura - Rp2000 - Rating: 2.5\n",
            "Mie Sedap - Rp3000 - Rating: 4.0\n",
            "Mie Indo - Rp3500 - Rating: 5.0\n",
            "Mie Ayam - Rp5000 - Rating: 4.9\n",
            "Mie Super - Rp7000 - Rating: 3.6\n",
            "\n",
            "Produk diurutkan berdasarkan rating (rendah ke tinggi):\n",
            "Mie Sakura - Rp2000 - Rating: 2.5\n",
            "Mie Super - Rp7000 - Rating: 3.6\n",
            "Mie Sedap - Rp3000 - Rating: 4.0\n",
            "Mie Ayam - Rp5000 - Rating: 4.9\n",
            "Mie Indo - Rp3500 - Rating: 5.0\n"
          ]
        }
      ],
      "source": [
        "#Tugas Sorting dengan metode bubble, selection, insertion, merge dan quick sort\n",
        "def bubble_sort(arr, key):\n",
        "    n = len(arr)\n",
        "    for i in range(n - 1):\n",
        "        for j in range(n - i - 1):\n",
        "            if arr[j][key] > arr[j + 1][key]:\n",
        "                arr[j], arr[j + 1] = arr[j + 1], arr[j]\n",
        "    return arr\n",
        "\n",
        "def selection_sort(arr, key):\n",
        "    n = len(arr)\n",
        "    for i in range(n - 1):\n",
        "        min_index = i\n",
        "        for j in range(i + 1, n):\n",
        "            if arr[j][key] < arr[min_index][key]:\n",
        "                min_index = j\n",
        "        arr[i], arr[min_index] = arr[min_index], arr[i]\n",
        "    return arr\n",
        "\n",
        "def insertion_sort(arr, key):\n",
        "    n = len(arr)\n",
        "    for i in range(1, n):\n",
        "        key_value = arr[i]\n",
        "        j = i - 1\n",
        "        while j >= 0 and arr[j][key] > key_value[key]:\n",
        "            arr[j + 1] = arr[j]\n",
        "            j -= 1\n",
        "        arr[j + 1] = key_value\n",
        "    return arr\n",
        "\n",
        "def merge_sort(arr, key):\n",
        "    if len(arr) > 1:\n",
        "        mid = len(arr) // 2\n",
        "        kiri = arr[:mid]\n",
        "        kanan = arr[mid:]\n",
        "\n",
        "        merge_sort(kiri, key)\n",
        "        merge_sort(kanan, key)\n",
        "\n",
        "        i = j = k = 0\n",
        "\n",
        "        while i < len(kiri) and j < len(kanan):\n",
        "            if kiri[i][key] < kanan[j][key]:\n",
        "                arr[k] = kiri[i]\n",
        "                i += 1\n",
        "            else:\n",
        "                arr[k] = kanan[j]\n",
        "                j += 1\n",
        "            k += 1\n",
        "\n",
        "        while i < len(kiri):\n",
        "            arr[k] = kiri[i]\n",
        "            i += 1\n",
        "            k += 1\n",
        "\n",
        "        while j < len(kanan):\n",
        "            arr[k] = kanan[j]\n",
        "            j += 1\n",
        "            k += 1\n",
        "    return arr\n",
        "\n",
        "def quick_sort(arr, key):\n",
        "    if len(arr) <= 1:\n",
        "        return arr\n",
        "\n",
        "    pivot = arr[len(arr) // 2]\n",
        "    kiri = [x for x in arr if x[key] < pivot[key]]\n",
        "    tengah = [x for x in arr if x[key] == pivot[key]]\n",
        "    kanan = [x for x in arr if x[key] > pivot[key]]\n",
        "\n",
        "    return quick_sort(kiri, key) + tengah + quick_sort(kanan, key)\n",
        "\n",
        "produk = [\n",
        "    {\"nama\": \"Mie Sedap\", \"harga\": 3000, \"rating\": 4.0},\n",
        "    {\"nama\": \"Mie Indo\", \"harga\": 3500, \"rating\": 5.0},\n",
        "    {\"nama\": \"Mie Sakura\", \"harga\": 2000, \"rating\": 2.5},\n",
        "    {\"nama\": \"Mie Ayam\", \"harga\": 5000, \"rating\": 4.9},\n",
        "    {\"nama\": \"Mie Super\", \"harga\": 7000, \"rating\": 3.6}\n",
        "]\n",
        "\n",
        "urut_harga = quick_sort(produk.copy(), \"harga\")\n",
        "urut_rating = quick_sort(produk.copy(), \"rating\")\n",
        "print(\"Produk diurutkan berdasarkan harga (rendah ke tinggi):\")\n",
        "for me in urut_harga:\n",
        "    print(f\"{me['nama']} - Rp{me['harga']} - Rating: {me['rating']}\")\n",
        "\n",
        "print(\"\\nProduk diurutkan berdasarkan rating (rendah ke tinggi):\")\n",
        "for me in urut_rating:\n",
        "    print(f\"{me['nama']} - Rp{me['harga']} - Rating: {me['rating']}\")"
      ]
    }
  ]
}