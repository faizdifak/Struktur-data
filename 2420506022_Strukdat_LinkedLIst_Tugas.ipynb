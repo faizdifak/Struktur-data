{
  "nbformat": 4,
  "nbformat_minor": 0,
  "metadata": {
    "colab": {
      "provenance": [],
      "authorship_tag": "ABX9TyPvY9IWQuqm2p4k/BCueDmG",
      "include_colab_link": true
    },
    "kernelspec": {
      "name": "python3",
      "display_name": "Python 3"
    },
    "language_info": {
      "name": "python"
    }
  },
  "cells": [
    {
      "cell_type": "markdown",
      "metadata": {
        "id": "view-in-github",
        "colab_type": "text"
      },
      "source": [
        "<a href=\"https://colab.research.google.com/github/faizdifak/Struktur-data/blob/main/2420506022_Strukdat_LinkedLIst_Tugas.ipynb\" target=\"_parent\"><img src=\"https://colab.research.google.com/assets/colab-badge.svg\" alt=\"Open In Colab\"/></a>"
      ]
    },
    {
      "cell_type": "code",
      "execution_count": null,
      "metadata": {
        "colab": {
          "base_uri": "https://localhost:8080/"
        },
        "id": "qX34fPDTONNv",
        "outputId": "43d0839f-e4e6-4c70-d2b2-a601ef90d6de"
      },
      "outputs": [
        {
          "output_type": "stream",
          "name": "stdout",
          "text": [
            "Masukkan nama satpam ke-1: Faiz\n",
            "Masukkan nama satpam ke-2: Kanaya\n",
            "Masukkan nama satpam ke-3: azzahra\n",
            "Masukkan nama satpam ke-4: akmal\n",
            "\n",
            "Jadwal Piket Satpam Selama 2 Minggu:\n",
            "\n",
            "Hari 1: Faiz\n",
            "Hari 2: Kanaya\n",
            "Hari 3: azzahra\n",
            "Hari 4: akmal\n",
            "Hari 5: Faiz\n",
            "Hari 6: Kanaya\n",
            "Hari 7: azzahra\n",
            "Hari 8: akmal\n",
            "Hari 9: Faiz\n",
            "Hari 10: Kanaya\n",
            "Hari 11: azzahra\n",
            "Hari 12: akmal\n",
            "Hari 13: Faiz\n",
            "Hari 14: Kanaya\n"
          ]
        }
      ],
      "source": [
        "#Tugas2 Linked List\n",
        "class SatpamNode:\n",
        "    def __init__(self, name):\n",
        "        self.name = name  # Menyimpan nama satpam\n",
        "        self.next = None  # Pointer ke node satpam berikutnya\n",
        "\n",
        "class JadwalSatpam:\n",
        "    def __init__(self):\n",
        "        self.head = None  # Awalnya, circular linked list kosong\n",
        "\n",
        "    def tambah_satpam(self, name):\n",
        "        new_node = SatpamNode(name)\n",
        "        if not self.head:\n",
        "            self.head = new_node\n",
        "            self.head.next = self.head  # Node pertama menunjuk ke dirinya sendiri\n",
        "        else:\n",
        "            temp = self.head\n",
        "            while temp.next != self.head:\n",
        "                temp = temp.next\n",
        "            temp.next = new_node\n",
        "            new_node.next = self.head  # Node baru menunjuk ke head untuk membuat circular\n",
        "\n",
        "    def cetak_jadwal(self, days):\n",
        "        if not self.head:\n",
        "            print(\"Belum ada satpam yang terdaftar.\")\n",
        "            return\n",
        "\n",
        "        print(\"\\nJadwal Piket Satpam Selama 2 Minggu:\\n\")\n",
        "        temp = self.head\n",
        "        for day in range(1, days + 1):\n",
        "            print(f\"Hari {day}: {temp.name}\")\n",
        "            temp = temp.next\n",
        "\n",
        "# ==== Program Utama (main) ==== #\n",
        "\n",
        "jadwal = JadwalSatpam()\n",
        "\n",
        "# Meminta pengguna memasukkan nama-nama satpam\n",
        "for i in range(4):\n",
        "    name = input(f\"Masukkan nama satpam ke-{i+1}: \")\n",
        "    jadwal.tambah_satpam(name)\n",
        "\n",
        "# Mencetak jadwal selama 2 minggu (14 hari)\n",
        "jadwal.cetak_jadwal(14)\n"
      ]
    }
  ]
}