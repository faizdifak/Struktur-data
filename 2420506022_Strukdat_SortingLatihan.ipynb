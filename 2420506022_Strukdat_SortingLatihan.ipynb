{
  "nbformat": 4,
  "nbformat_minor": 0,
  "metadata": {
    "colab": {
      "provenance": [],
      "authorship_tag": "ABX9TyNWscKf0FPhTwBiOrZfksr0",
      "include_colab_link": true
    },
    "kernelspec": {
      "name": "python3",
      "display_name": "Python 3"
    },
    "language_info": {
      "name": "python"
    }
  },
  "cells": [
    {
      "cell_type": "markdown",
      "metadata": {
        "id": "view-in-github",
        "colab_type": "text"
      },
      "source": [
        "<a href=\"https://colab.research.google.com/github/faizdifak/Struktur-data/blob/main/2420506022_Strukdat_SortingLatihan.ipynb\" target=\"_parent\"><img src=\"https://colab.research.google.com/assets/colab-badge.svg\" alt=\"Open In Colab\"/></a>"
      ]
    },
    {
      "cell_type": "code",
      "execution_count": null,
      "metadata": {
        "colab": {
          "base_uri": "https://localhost:8080/"
        },
        "id": "Z4R--xjRrEGy",
        "outputId": "efdb8396-a668-4767-c806-821c550de5ee"
      },
      "outputs": [
        {
          "output_type": "stream",
          "name": "stdout",
          "text": [
            "Data sebelum sorting: [64, 34, 25, 12, 22, 11, 90]\n",
            "Data setelah bubble sort [11, 12, 22, 25, 34, 64, 90]\n"
          ]
        }
      ],
      "source": [
        "# Implementasi Bubble Sort\n",
        "def bubble_sort(arr):\n",
        "    n = len(arr)\n",
        "    for i in range(n-1):\n",
        "      for j in range(n-i-1):\n",
        "         if arr[j] > arr[j+1]:\n",
        "             arr[j], arr[j+1] = arr[j+1], arr[j]\n",
        "    return arr\n",
        "\n",
        "# Contoh penggunaan\n",
        "data = [64, 34, 25, 12, 22, 11, 90]\n",
        "sorted_data = bubble_sort(data.copy()) #Menggunakan copy agar data asli tidak berubah\n",
        "print(\"Data sebelum sorting:\", data)\n",
        "print(\"Data setelah bubble sort\", sorted_data)"
      ]
    },
    {
      "cell_type": "code",
      "source": [
        "# Implementasi Selection Sort\n",
        "def  selection_sort(arr):\n",
        "     n = len(arr)\n",
        "     for i in range(n-1):\n",
        "        min_index = i\n",
        "        for j in range(i+1, n):\n",
        "            if arr[j] < arr[min_index]:\n",
        "              min_index = j\n",
        "        arr[i], arr[min_index] = arr[min_index], arr[i]\n",
        "     return arr\n",
        "\n",
        "\n",
        "#Contoh penggunaan\n",
        "data = [64, 25, 12, 22, 11]\n",
        "sorted_data = selection_sort(data.copy())\n",
        "print(\"Data sebelum sorting:\", data)\n",
        "print(\"Data setelah selection sort:\", sorted_data)"
      ],
      "metadata": {
        "colab": {
          "base_uri": "https://localhost:8080/"
        },
        "id": "-oZ2wIdmstRL",
        "outputId": "743793c4-85f3-4e39-8d5a-53ca4de20b1e"
      },
      "execution_count": null,
      "outputs": [
        {
          "output_type": "stream",
          "name": "stdout",
          "text": [
            "Data sebelum sorting: [64, 25, 12, 22, 11]\n",
            "Data setelah selection sort: [11, 12, 22, 25, 64]\n"
          ]
        }
      ]
    },
    {
      "cell_type": "code",
      "source": [
        "# Implementasi Insertion Sort\n",
        "def insertion_sort(arr):\n",
        "    n = len(arr)\n",
        "    for i in range(1, n):\n",
        "        key = arr[i]\n",
        "        j = i-1\n",
        "        while j >= 0 and arr[j] > key:\n",
        "            arr[j+1] = arr[j]\n",
        "            j -= 1\n",
        "        arr[j+1] = key\n",
        "    return arr\n",
        "\n",
        "#Contoh Penggunaan\n",
        "data = [64, 34, 25, 12, 22, 11, 90]\n",
        "sorted_data = insertion_sort(data.copy())\n",
        "print(\"Data sebelum sorting:\", data)\n",
        "print(\"Data setelah insertion sort:\", sorted_data)"
      ],
      "metadata": {
        "colab": {
          "base_uri": "https://localhost:8080/"
        },
        "id": "3MhnmiXkuNND",
        "outputId": "b4cc6328-972c-4a35-876f-f5dcc60dcfc0"
      },
      "execution_count": null,
      "outputs": [
        {
          "output_type": "stream",
          "name": "stdout",
          "text": [
            "Data sebelum sorting: [64, 34, 25, 12, 22, 11, 90]\n",
            "Data setelah insertion sort: [11, 12, 22, 25, 34, 64, 90]\n"
          ]
        }
      ]
    },
    {
      "cell_type": "code",
      "source": [
        "# Implementasi Merge Sort\n",
        "def merge_sort(arr):\n",
        "    if len(arr) > 1:\n",
        "        mid = len(arr) // 2\n",
        "        left_half = arr[:mid]\n",
        "        right_half = arr[mid:]\n",
        "\n",
        "        i = j = k = 0\n",
        "\n",
        "        while i < len(left_half) and j < len(right_half):\n",
        "          if left_half[i] < right_half[j]:\n",
        "             arr[k] = left_half[i]\n",
        "             i += 1\n",
        "          else:\n",
        "             arr[k] = right_half[j]\n",
        "             j += 1\n",
        "             k += 1\n",
        "\n",
        "        while i < len(left_half):\n",
        "           arr[k] = left_half[i]\n",
        "           i += 1\n",
        "           k += 1\n",
        "\n",
        "    return arr\n",
        "\n",
        "#Contoh penggunaan\n",
        "data = [64, 25, 12, 22, 11]\n",
        "sorted_data = merge_sort(data.copy())\n",
        "print(\"Data sebelum sorting:\", data)\n",
        "print(\"Data setelah merge sort:\", sorted_data)"
      ],
      "metadata": {
        "colab": {
          "base_uri": "https://localhost:8080/"
        },
        "id": "IN9Ke0v-vbBj",
        "outputId": "c29c58c6-3e13-45ab-d1b3-a276782e6d8d"
      },
      "execution_count": null,
      "outputs": [
        {
          "output_type": "stream",
          "name": "stdout",
          "text": [
            "Data sebelum sorting: [64, 25, 12, 22, 11]\n",
            "Data setelah merge sort: [12, 22, 11, 64, 25]\n"
          ]
        }
      ]
    },
    {
      "cell_type": "code",
      "source": [
        "# Implementasi Quick Sort\n",
        "def quick_sort(arr):\n",
        "    if len(arr) <= 1:\n",
        "       return arr\n",
        "\n",
        "    pivot = arr[len(arr) // 2]\n",
        "    left = [x for x in arr if x < pivot]\n",
        "    middle = [x for x in arr if x == pivot]\n",
        "    right = [x for x in arr if x > pivot]\n",
        "\n",
        "    return quick_sort(left) + middle + quick_sort(right)\n",
        "\n",
        "#Contoh penggunaan\n",
        "data = [64, 25, 12, 22, 11]\n",
        "sorted_data = quick_sort(data.copy())\n",
        "print(\"Data sebelum sorting:\", data)\n",
        "print(\"Data setelah quick sort:\", sorted_data)"
      ],
      "metadata": {
        "colab": {
          "base_uri": "https://localhost:8080/"
        },
        "id": "xkvWIX3xxF8b",
        "outputId": "ea13e76a-a156-48f0-a3d3-028367225f72"
      },
      "execution_count": null,
      "outputs": [
        {
          "output_type": "stream",
          "name": "stdout",
          "text": [
            "Data sebelum sorting: [64, 25, 12, 22, 11]\n",
            "Data setelah quick sort: [11, 12, 22, 25, 64]\n"
          ]
        }
      ]
    }
  ]
}