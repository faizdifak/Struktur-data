{
  "nbformat": 4,
  "nbformat_minor": 0,
  "metadata": {
    "colab": {
      "provenance": [],
      "authorship_tag": "ABX9TyM//tcNNNQlYzuYqlea0Wuu",
      "include_colab_link": true
    },
    "kernelspec": {
      "name": "python3",
      "display_name": "Python 3"
    },
    "language_info": {
      "name": "python"
    }
  },
  "cells": [
    {
      "cell_type": "markdown",
      "metadata": {
        "id": "view-in-github",
        "colab_type": "text"
      },
      "source": [
        "<a href=\"https://colab.research.google.com/github/faizdifak/Struktur-data/blob/main/2420506022_Strukdat_TugasGraph.ipynb\" target=\"_parent\"><img src=\"https://colab.research.google.com/assets/colab-badge.svg\" alt=\"Open In Colab\"/></a>"
      ]
    },
    {
      "cell_type": "code",
      "execution_count": null,
      "metadata": {
        "colab": {
          "base_uri": "https://localhost:8080/"
        },
        "id": "yHQWexDiXgFj",
        "outputId": "1aa15ec1-c12c-4e26-f417-2540ac948801"
      },
      "outputs": [
        {
          "output_type": "stream",
          "name": "stdout",
          "text": [
            "A -> ['B', 'C']\n",
            "B -> ['A', 'C', 'D']\n",
            "C -> ['A', 'B', 'D', 'E']\n",
            "D -> ['B', 'C', 'E']\n",
            "E -> ['C', 'D']\n"
          ]
        }
      ],
      "source": [
        "# Tugas\n",
        "# 1. Membuat graf tak berarah dan fungsi print_graph\n",
        "def create_graph():\n",
        "    \"\"\"Membuat graf tak berarah dengan 5 simpul dan 7 sisi\"\"\"\n",
        "    graph = {\n",
        "        'A': ['B', 'C'],\n",
        "        'B': ['A', 'C', 'D'],\n",
        "        'C': ['A', 'B', 'D', 'E'],\n",
        "        'D': ['B', 'C', 'E'],\n",
        "        'E': ['C', 'D']\n",
        "    }\n",
        "    return graph\n",
        "# Fungsi print_graph\n",
        "def print_graph(graf):\n",
        "    for node in graf:\n",
        "        print(f\"{node} -> {graf[node]}\")\n",
        "\n",
        "print_graph(create_graph())"
      ]
    },
    {
      "cell_type": "code",
      "source": [
        "# 2. Implementasi BFS dan DFS\n",
        "from collections import deque\n",
        "def bfs(graph, start):\n",
        "    \"\"\"Breadth-First Search yang mencetak urutan kunjungan\"\"\"\n",
        "    visited = set()\n",
        "    queue = deque([start])\n",
        "    visited.add(start)\n",
        "\n",
        "    print(\"BFS Traversal:\")\n",
        "    while queue:\n",
        "        vertex = queue.popleft()\n",
        "        print(vertex, end=\" \")\n",
        "\n",
        "        for neighbor in graph[vertex]:\n",
        "            if neighbor not in visited:\n",
        "                visited.add(neighbor)\n",
        "                queue.append(neighbor)\n",
        "    print()\n",
        "\n",
        "def dfs(graph, start, visited=None):\n",
        "    \"\"\"Depth-First Search yang mencetak urutan kunjungan\"\"\"\n",
        "    if visited is None:\n",
        "        visited = set()\n",
        "    visited.add(start)\n",
        "    print(start, end=\" \")\n",
        "\n",
        "    for neighbor in graph[start]:\n",
        "        if neighbor not in visited:\n",
        "            dfs(graph, neighbor, visited)\n",
        "\n",
        "# 3. Modifikasi BFS untuk mengembalikan list urutan kunjungan\n",
        "def bfs_list(graph, start):\n",
        "    \"\"\"BFS yang mengembalikan list urutan kunjungan\"\"\"\n",
        "    visited = []\n",
        "    queue = deque([start])\n",
        "    visited_set = set([start])\n",
        "\n",
        "    while queue:\n",
        "        vertex = queue.popleft()\n",
        "        visited.append(vertex)\n",
        "\n",
        "        for neighbor in graph[vertex]:\n",
        "            if neighbor not in visited_set:\n",
        "                visited_set.add(neighbor)\n",
        "                queue.append(neighbor)\n",
        "\n",
        "    return visited\n",
        "\n",
        "# 4. Fungsi untuk mencari jalur dari start ke end menggunakan DFS\n",
        "def find_path(graph, start, end, path=None):\n",
        "    \"\"\"Mencari satu jalur dari start ke end menggunakan DFS\"\"\"\n",
        "    if path is None:\n",
        "        path = []\n",
        "    path = path + [start]\n",
        "\n",
        "    if start == end:\n",
        "        return path\n",
        "\n",
        "    for neighbor in graph[start]:\n",
        "        if neighbor not in path:\n",
        "            new_path = find_path(graph, neighbor, end, path)\n",
        "            if new_path:\n",
        "                return new_path\n",
        "\n",
        "    return None\n",
        "\n",
        "# 5. Fungsi untuk mengecek konektivitas graf\n",
        "def is_connected(graph):\n",
        "    \"\"\"Mengecek apakah semua simpul dalam graf terhubung\"\"\"\n",
        "    if not graph:\n",
        "        return True  # graf kosong dianggap terhubung\n",
        "\n",
        "    start_node = next(iter(graph))  # ambil simpul pertama\n",
        "    visited = set()\n",
        "\n",
        "    # DFS untuk mengunjungi semua simpul yang terhubung\n",
        "    stack = [start_node]\n",
        "    while stack:\n",
        "        vertex = stack.pop()\n",
        "        if vertex not in visited:\n",
        "            visited.add(vertex)\n",
        "            stack.extend([n for n in graph[vertex] if n not in visited])\n",
        "\n",
        "    # Jika jumlah simpul yang dikunjungi sama dengan jumlah semua simpul\n",
        "    return len(visited) == len(graph)\n",
        "\n",
        "# Main programnya\n",
        "if __name__ == \"__main__\":\n",
        "    # Buat instance graf\n",
        "    my_graph = create_graph()\n",
        "\n",
        "    # 2. Jalankan BFS dan DFS\n",
        "    print(\"Traversal dimulai dari simpul 'A':\")\n",
        "    bfs(my_graph, 'A') # Gunakan my_graph\n",
        "    print(\"DFS Traversal:\")\n",
        "    dfs(my_graph, 'A') # Gunakan my_graph\n",
        "    print(\"\\n\")\n",
        "\n",
        "    # 3. Dapatkan list urutan BFS\n",
        "    bfs_order = bfs_list(my_graph, 'A') # Gunakan my_graph\n",
        "    print(f\"Urutan kunjungan BFS: {bfs_order}\")\n",
        "\n",
        "    # 4. Cari jalur dari 'A' ke 'E'\n",
        "    path = find_path(my_graph, 'A', 'E') # Gunakan my_graph\n",
        "    print(f\"Jalur dari A ke E: {path}\")\n",
        "\n",
        "    # 5. Cek konektivitas graf\n",
        "    connected = is_connected(my_graph) # Gunakan my_graph\n",
        "    print(f\"Apakah graf terhubung? {'Ya' if connected else 'Tidak'}\")"
      ],
      "metadata": {
        "colab": {
          "base_uri": "https://localhost:8080/"
        },
        "id": "sDkVL0xgdW-d",
        "outputId": "9747e23d-a808-48b2-eb6f-8f4464bb373c"
      },
      "execution_count": null,
      "outputs": [
        {
          "output_type": "stream",
          "name": "stdout",
          "text": [
            "Traversal dimulai dari simpul 'A':\n",
            "BFS Traversal:\n",
            "A B C D E \n",
            "DFS Traversal:\n",
            "A B C D E \n",
            "\n",
            "Urutan kunjungan BFS: ['A', 'B', 'C', 'D', 'E']\n",
            "Jalur dari A ke E: ['A', 'B', 'C', 'D', 'E']\n",
            "Apakah graf terhubung? Ya\n"
          ]
        }
      ]
    }
  ]
}